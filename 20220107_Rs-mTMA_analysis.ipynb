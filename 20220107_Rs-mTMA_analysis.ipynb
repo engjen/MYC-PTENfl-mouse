{
 "cells": [
  {
   "cell_type": "code",
   "execution_count": null,
   "id": "295952b5-12a7-40bc-a47a-fbc0a2ee291b",
   "metadata": {},
   "outputs": [],
   "source": [
    "import pandas as pd\n",
    "import os\n",
    "import numpy as np\n",
    "import matplotlib.pyplot as plt\n",
    "import scanpy as sc\n",
    "import seaborn as sns\n",
    "from scipy import stats\n",
    "import matplotlib as mpl\n",
    "mpl.rc('figure', max_open_warning = 0)\n",
    "os.chdir('/mnt/c/Users/engje/Documents/Data/')\n",
    "import mplex_image         "
   ]
  },
  {
   "cell_type": "code",
   "execution_count": null,
   "id": "065fb9af-77ef-4dce-99a1-1667594d0afe",
   "metadata": {},
   "outputs": [],
   "source": [
    "rootdir = '/mnt/c/Users/engje/Documents/Data/cmIF_2021-07-07_RS-mTMA'\n",
    "os.chdir(rootdir)"
   ]
  },
  {
   "cell_type": "markdown",
   "id": "1f9cc44f-2cf0-4a10-b460-cd918e94a0c9",
   "metadata": {},
   "source": [
    "# Table of contents <a name=\"contents\"></a>\n",
    "\n",
    "1. [Leiden](#l8)\n",
    "[annotate](#lbar)\n",
    "\n",
    "2. [subtype](#subt)  [color scheme](#color)\n",
    "\n",
    "3. [Leiden celltypeing](#lbar)\n",
    "\n",
    "4. [Expression results](#results)  [mibi](#resultsmibi)  [annotate mibi](#mibiann)"
   ]
  },
  {
   "cell_type": "code",
   "execution_count": null,
   "id": "b3d01e22-8ca3-4040-ba5e-eefabdd047cc",
   "metadata": {},
   "outputs": [],
   "source": [
    "df_cell = pd.read_csv('results_20211110_RS-mTMA-5_leiden0.5_gated_celltype.csv',index_col=0)"
   ]
  },
  {
   "cell_type": "code",
   "execution_count": null,
   "id": "d634373b-2bd1-42a2-b7f2-b49a3832acbb",
   "metadata": {},
   "outputs": [],
   "source": [
    "s_out = '20211111_RS-mTMA-5'\n",
    "df_man = pd.read_csv(f'{s_out}_GatedPositiveCellNames.csv',index_col=0)\n",
    "#RS-mTMA-5_sceneA05 Sox9 >256\n",
    "ls_index = df_cell.loc[(df_cell.index.str.contains('RS-mTMA-5_sceneA05')& (df_cell.SOX9 > 256))].index \n",
    "df_man.loc[ls_index,'celltype']='epithelial'\n",
    "#H11\n",
    "ls_index = df_cell.loc[(df_cell.index.str.contains('RS-mTMA-5_sceneH11')& (df_cell.SOX9 > 256))].index \n",
    "df_man.loc[ls_index,'celltype']='epithelial'\n",
    "#ls_bad = ['stromal','epithelial']\n",
    "#df_cell_scene =  df_cell.loc[(df_cell.index.str.contains('RS-mTMA-5_sceneH11'))]\n",
    "#df_man_scene = df_man.loc[df_man.index.str.contains('RS-mTMA-5_sceneH11')].loc[df_cell_scene.index]\n",
    "#print(df_man_scene.groupby('celltype').DAPI_X.count()/len(df_man_scene))\n",
    "#ls_index = df_cell_scene.loc[(df_cell_scene.SOX9 > 256)].index \n",
    "#df_man.loc[ls_index,'celltype']='epithelial'\n",
    "#ls_index_str = df_cell_scene.loc[(df_cell_scene.SOX9 < 256) & df_man_scene.celltype.isin(ls_bad)].index\n",
    "#df_man.loc[ls_index_str,'celltype']='stromal'\n",
    "#print(len(df_man.loc[(df_man.index.str.contains('RS-mTMA-5_sceneH11')&(df_man.celltype =='stromal'))]))\n",
    "\n",
    "df_man['celltype3'] =  df_man.celltype.replace({'endothelial':'stromal','tumor':'epithelial'})\n",
    "df_man['celltype'] = df_man.celltype.replace({'tumor':'epithelial'})"
   ]
  },
  {
   "cell_type": "markdown",
   "id": "29a7391c-4a9a-4d76-bc64-73a597dc5beb",
   "metadata": {},
   "source": [
    "## subtype <a name=\"subt\"></a>\n",
    " \n",
    "\n",
    "[contents](#contents)"
   ]
  },
  {
   "cell_type": "code",
   "execution_count": null,
   "id": "a6b36eaf-f931-4d14-887c-5893b7d9fe5f",
   "metadata": {},
   "outputs": [],
   "source": [
    "\n",
    "#load annotation old\n",
    "'''import re\n",
    "df_a = pd.read_csv('RS-MYC-PTENfl_TMA_subgroups.csv')\n",
    "df_a.loc[~df_a.GroupA.isna(),'Groups'] = 'stroma_rich'\n",
    "df_a.loc[~df_a.GroupB.isna(),'Groups'] = 'stroma_poor'\n",
    "df_a.loc[df_a.Groups.isna(),'Groups'] = 'not_tumor'\n",
    "df_a['Xiaoyan'] = df_a.Xiaoyan.fillna(df_a.TMA)\n",
    "df_a.index = df_a.TMA #drop(['oldE1','oldF6'],inplace=True)\n",
    "d_a = dict(zip(df_a.index,df_a.Groups))\n",
    "df_a['slide_scene'] = [f'RS-mTMA-5_scene{re.sub(r\"[0-9]+\", \"\", item)}{int(re.sub(r\"[A-Z]+\", \"\", item)):02d}' for item in df_a.index]\n",
    "df_a['Group'] = df_a.Xiaoyan.map(d_a).fillna('not_tumor')      \n",
    "'''"
   ]
  },
  {
   "cell_type": "code",
   "execution_count": null,
   "id": "d9112a6b-96eb-48b2-9032-1c3ed69e6503",
   "metadata": {},
   "outputs": [],
   "source": [
    "s_sample = '20211110_RS-mTMA-5'\n",
    "resolution = 0.5\n",
    "s_date = s_sample.split('_')[0]\n",
    "#load annotation\n",
    "import re\n",
    "df_a = pd.read_csv('MYC-PTENfl TMA subgroups1_better.csv')\n",
    "df_a.loc[~df_a.GroupA.isna(),'Groups'] = 'stroma_rich'\n",
    "df_a.loc[~df_a.GroupB.isna(),'Groups'] = 'stroma_poor'\n",
    "df_a.loc[df_a.Groups.isna(),'Groups'] = 'not_tumor'\n",
    "df_a['Xiaoyan'] = df_a.Xiaoyan.fillna(df_a.TMA)\n",
    "df_a.index = df_a.TMA #drop(['oldE1','oldF6'],inplace=True)\n",
    "d_a = dict(zip(df_a.index,df_a.Groups))\n",
    "df_a['slide_scene'] = [f'RS-mTMA-5_scene{re.sub(r\"[0-9]+\", \"\", item)}{int(re.sub(r\"[A-Z]+\", \"\", item)):02d}' for item in df_a.index]\n",
    "df_a['Group'] = df_a.Xiaoyan.map(d_a).fillna('not_tumor')    \n",
    "#not tumor for neuNT\n",
    "df_a.loc[df_a.Tumor_size_mm=='MYC-NeuNT','Group'] = 'not_tumor'\n",
    "\n",
    "df_p = pd.read_csv(f'results_{s_sample}_leiden{resolution}_gated_celltype.csv',index_col=0)\n",
    "df_p['slide_scene'] = [item.split('_cell')[0] for item in df_p.index]\n",
    "df_p['slide'] = [item.split('_')[0] for item in df_p.index]\n",
    "#annotate\n",
    "d_a = dict(zip(df_a.slide_scene,df_a.Group))\n",
    "df_p['Group'] = df_p.slide_scene.map(d_a)\n",
    "df_p['celltype_l3'] =  df_p.gated_celltype.replace({'endothelial':'stromal'})\n",
    "df_p['gated_celltype'] = df_p.gated_celltype.replace({'tumor':'epithelial'})\n",
    "\n",
    "#filter out not tumor\n",
    "df_man['Group'] = df_man.slide_scene.map(d_a)\n",
    "df_man = df_man[df_man.Group!='not_tumor']\n",
    "df_p = df_p[df_p.Group!='not_tumor']"
   ]
  },
  {
   "cell_type": "code",
   "execution_count": null,
   "id": "b19db603-28d0-4827-8f15-d9f720ca1473",
   "metadata": {
    "tags": []
   },
   "outputs": [],
   "source": [
    "s_type = 'celltype3' # 'celltype' #'gated_celltype' # 'celltype_l3' #'leiden' #\n",
    "ls_drop = ['RS-mTMA-5_sceneF03',\n",
    "           #'RS-mTMA-5_sceneA11', 'RS-mTMA-5_sceneB06', 'RS-mTMA-5_sceneB10',\n",
    "       #'RS-mTMA-5_sceneC06', 'RS-mTMA-5_sceneD04', 'RS-mTMA-5_sceneD09',\n",
    "       #'RS-mTMA-5_sceneE02', 'RS-mTMA-5_sceneE06', 'RS-mTMA-5_sceneE12',\n",
    "       #'RS-mTMA-5_sceneF04', 'RS-mTMA-5_sceneI10', 'RS-mTMA-5_sceneI12'\n",
    "          ]\n",
    "if s_type == 'celltype': \n",
    "    s_cell ='DAPI_X'\n",
    "    df = df_man.loc[:,['DAPI_X',s_type,'slide_scene']].groupby([s_type,'slide_scene']).DAPI_X.count()/df_man.loc[:,['DAPI_X','slide_scene']].groupby(['slide_scene']).DAPI_X.count()\n",
    "elif s_type == 'celltype3': \n",
    "    s_cell ='DAPI_X'\n",
    "    df = df_man.loc[:,['DAPI_X',s_type,'slide_scene']].groupby([s_type,'slide_scene']).DAPI_X.count()/df_man.loc[:,['DAPI_X','slide_scene']].groupby(['slide_scene']).DAPI_X.count()\n",
    "else:\n",
    "    s_cell = 'CD31'\n",
    "    df = df_p.loc[:,['CD31',s_type,'slide_scene']].groupby([s_type,'slide_scene']).CD31.count()/df_p.loc[:,['CD31','slide_scene']].groupby(['slide_scene']).CD31.count()\n",
    "df_prop = df.unstack().T.fillna(0).drop(ls_drop)\n",
    "ls_col = sorted(df_prop.columns.tolist())# ['endothelial','tumor','immune', 'stromal'] #\n",
    "adata = sc.AnnData(df_prop.loc[:,ls_col])\n",
    "adata.raw = adata\n",
    "#reduce dimensionality\n",
    "sc.tl.pca(adata, svd_solver='auto')\n",
    "#fig,ax=plt.subplots(figsize=(3.5,5))\n",
    "#sc.pl.highest_expr_genes(adata, n_top=48,ax=ax,save=f'Expression_{len(ls_col)}_{s_type}.png')\n",
    "#plt.tight_layout()\n",
    "#sc.pl.pca_variance_ratio(adata,n_pcs=32, log=True)\n",
    "\n",
    "#umap\n",
    "for n_neighbors in [6]: #,30\n",
    "    results_file = f'{s_date}/{s_sample}_{n_neighbors}neighbors_{len(ls_col)}markers_{s_type}.h5ad'\n",
    "    \n",
    "    if not os.path.exists(results_file):\n",
    "        print('calc umap')\n",
    "        # calculate neighbors \n",
    "        sc.pp.neighbors(adata, n_neighbors=n_neighbors) #, method='rapids'\n",
    "        sc.tl.umap(adata)\n",
    "    else:\n",
    "        print('loading umap')\n",
    "        adata = sc.read_h5ad(results_file)\n",
    "    #color by markers\n",
    "    \n",
    "    figname = f\"Umap_markers_{n_neighbors}neighbors_{len(ls_col)}markers_{s_type}.png\"\n",
    "    title=figname.split('.png')[0].replace('_',' ')\n",
    "    sc.pl.umap(adata, color=ls_col,vmin='p1.5',vmax='p99.5',ncols=4,size=300,save=figname)\n",
    "    #survival\n",
    "    adata.obs['slide'] = adata.obs.index.tolist()\n",
    "    adata.obs['Group'] = adata.obs.slide.map(d_a).fillna('unknown')\n",
    "    #adata.obs['Group'] = adata.obs.index.map(d_a).fillna('unknown')\n",
    "            \n",
    "    figname = f\"Umap_Group_{n_neighbors}neighbors_{len(ls_col)}markers_{s_type}.png\"\n",
    "    title=figname.split('.png')[0].replace('_',' ')\n",
    "    fig,ax = plt.subplots(figsize=(3,2), dpi=200)\n",
    "    sc.pl.umap(adata, color='Group',wspace=.25,save=figname,ax=ax,title=title,size=50)\n",
    "    \n",
    "    #save results\n",
    "    #if not os.path.exists(results_file):\n",
    "    adata.write(results_file)\n",
    "    break"
   ]
  },
  {
   "cell_type": "code",
   "execution_count": null,
   "id": "135f9dd0-4e49-477a-84f4-15c1c16c7367",
   "metadata": {},
   "outputs": [],
   "source": [
    "#print(df_prop.loc['RS-mTMA-5_sceneH11'])\n",
    "#df_prop.loc['RS-mTMA-5_sceneA05']"
   ]
  },
  {
   "cell_type": "code",
   "execution_count": null,
   "id": "db2bb774-5116-4493-acfb-9fb5d07c2f83",
   "metadata": {},
   "outputs": [],
   "source": [
    "#leiden\n",
    "n_markers = len(ls_col)\n",
    "for resolution in [0.2]: #0.3,\n",
    "    results_file = f'{s_sample}_{n_neighbors}neighbors_{n_markers}markers_{s_type}_leiden{resolution}.h5ad'\n",
    "    sc.tl.leiden(adata,resolution=resolution)\n",
    "    adata.write(results_file)\n",
    "    fig,ax = plt.subplots(figsize=(2,1.5),dpi=200)\n",
    "    figname=f'leiden_{n_neighbors}_{n_markers}_{resolution}.png'\n",
    "    sc.pl.umap(adata, color='leiden',ax=ax,title=figname.split('.png')[0].replace('_',' '),wspace=.25,save=figname,size=40)\n",
    "    break"
   ]
  },
  {
   "cell_type": "code",
   "execution_count": null,
   "id": "8d3ba4bd-891d-4e96-a34d-ab70255e0546",
   "metadata": {},
   "outputs": [],
   "source": [
    "#clustermap\n",
    "%matplotlib inline\n",
    "df_p = pd.DataFrame(data=adata.raw.X,index=adata.obs.index,columns=adata.var.index)\n",
    "df_p['leiden'] = adata.obs['leiden']\n",
    "d_replace = {}\n",
    "df_plot = df_p.groupby('leiden').mean()\n",
    "df_plot.index.name = f'leiden {resolution}'\n",
    "g = sns.clustermap(df_plot,figsize=(3,3),cmap='viridis',z_score=1,vmin=-1.5,vmax=1.5\n",
    "                   )\n",
    "#g.fig.suptitle(f'leiden {resolution}',x=.9) \n",
    "g.savefig(f'{rootdir}/{s_date}/{s_sample}_clustermap_{s_type}_subtype_{resolution}.png',dpi=200)\n",
    "marker_genes = df_p.groupby('leiden').mean().iloc[:,g.dendrogram_col.reordered_ind].columns.tolist()\n",
    "categories_order = df_p.groupby('leiden').mean().iloc[g.dendrogram_row.reordered_ind,:].index.tolist()"
   ]
  },
  {
   "cell_type": "markdown",
   "id": "496cea3f-bbc8-44d3-b93f-7a3e3b34dc14",
   "metadata": {},
   "source": [
    "# Color scheme  <a name=\"color\"></a>\n",
    " \n",
    "\n",
    "[contents](#contents)"
   ]
  },
  {
   "cell_type": "code",
   "execution_count": null,
   "id": "60c7386f-4629-4115-8912-85d90e84271e",
   "metadata": {},
   "outputs": [],
   "source": [
    "d_color = {'SR_IR': (0.12156862745098039, 0.4666666666666667, 0.7058823529411765), #blue\n",
    " 'SP': (1.0, 0.4980392156862745, 0.054901960784313725), #orange\n",
    " 'SR_IP': (0.17254901960784313, 0.6274509803921569, 0.17254901960784313)} #green\n",
    "d_replace = {'0':'SR_IR','1':'SR_IP','2':'SP','3':'SP'}"
   ]
  },
  {
   "cell_type": "code",
   "execution_count": null,
   "id": "0dfc097d-e805-4e00-9c66-e2b2cc9a28e1",
   "metadata": {},
   "outputs": [],
   "source": [
    "#d_replace = {'3':'2'}\n",
    "#d_replace = {'0':'SR_IR','1':'SR_IP','2':'SP','3':'SP'}\n",
    "d_replace = {'0':'SR_IR','1':'SR_IP','2':'SP','3':'SP'}\n",
    "df_plot = df_p.groupby(df_p.leiden.replace(d_replace)).mean()\n",
    "df_plot.index.name = f'leiden {resolution}'\n",
    "#fig,ax=plt.subplots(,dpi=300)\n",
    "g = sns.clustermap(df_plot.loc[['SR_IR','SR_IP','SP'],:],cmap='viridis',figsize=(5,8), row_cluster=False, col_cluster=False, \n",
    "                   row_colors =df_plot.loc[['SR_IR','SR_IP','SP'],:].index.map(d_color),\n",
    "                   cbar_pos = (0.1, 1.01, .1,.5),\n",
    "                   cbar_kws = {'orientation':'horizontal'}\n",
    "           )\n",
    "\n",
    "plt.tight_layout()\n",
    "g.savefig(f'{rootdir}/{s_date}/{s_sample}_heatmap_{s_type}_subtype_{resolution}_bars.png',dpi=300)"
   ]
  },
  {
   "cell_type": "code",
   "execution_count": null,
   "id": "1f51f76d-b792-4467-9914-11a3cd6f4580",
   "metadata": {},
   "outputs": [],
   "source": [
    "fig,ax=plt.subplots(figsize=(3.2,2),dpi=300)\n",
    "sns.heatmap(df_plot.loc[['SR_IR','SR_IP','SP'],:],cmap='viridis',ax=ax #,z_score=1,vmin=-1.5,vmax=1.5,figsize=(4,3.5),\n",
    "                   )\n",
    "plt.tight_layout()\n",
    "fig.savefig(f'{rootdir}/{s_date}/{s_sample}_heatmap_{s_type}_subtype_{resolution}.png',dpi=300)"
   ]
  },
  {
   "cell_type": "code",
   "execution_count": null,
   "id": "2a2cb89e-55b7-4e0b-a500-f2bdeb24d3f7",
   "metadata": {},
   "outputs": [],
   "source": [
    "df_p.mean()\n",
    "#MIBIcelltype3\n",
    "#epithelial    0.531436\n",
    "#immune        0.232980\n",
    "#stromal       0.235584"
   ]
  },
  {
   "cell_type": "code",
   "execution_count": null,
   "id": "35c20c37-f451-4aab-91f4-ef3dfe60bd87",
   "metadata": {},
   "outputs": [],
   "source": [
    "from scipy import stats\n",
    "df_p['Group'] = df_p.index.map(d_a)\n",
    "df_tum = df_p[df_p.Group!='not_tumor']\n",
    "confusion_matrix = pd.crosstab(df_tum.leiden.replace(d_replace),df_tum.Group)\n",
    "fig,ax = plt.subplots(dpi=400,figsize=(3.5,3))\n",
    "sns.heatmap(confusion_matrix.loc[['SR_IR','SR_IP','SP'],['stroma_rich','stroma_poor']], annot=True,ax=ax,cbar_kws={'label':'No. Cores'},cmap='viridis')\n",
    "chi2, pvalue, dof, expected  = stats.chi2_contingency(confusion_matrix)\n",
    "print(pvalue)\n",
    "ax.set_title(f\"Subtype vs. Histology (p = {pvalue:.2f})\")\n",
    "plt.tight_layout()\n",
    "fig.savefig(f'./{s_date}/Chi_square_group_clustering_{s_type}.png')"
   ]
  },
  {
   "cell_type": "code",
   "execution_count": null,
   "id": "206df9b5-3bcb-4bad-805e-18d615757249",
   "metadata": {},
   "outputs": [],
   "source": [
    "fig,ax = plt.subplots(dpi=200,figsize=(4.5,3))\n",
    "sns.heatmap(expected,ax=ax,annot=True,cbar_kws={'label':'No. Cores'},cmap='viridis',vmin=3,vmax=31)\n",
    "ax.set_xticklabels(['stroma_poor','stroma_rich'])\n",
    "ax.set_xlabel('Group')\n",
    "ax.set_ylabel('leiden')\n",
    "ax.set_title('Expected')\n",
    "plt.tight_layout()\n",
    "fig.savefig(f'./{s_date}/Chi_square_group_clustering_expected_{s_type}.png')"
   ]
  },
  {
   "cell_type": "code",
   "execution_count": null,
   "id": "37b613bb-260c-4e4b-80b1-a8e7b4628cf2",
   "metadata": {},
   "outputs": [],
   "source": [
    "#sns.clustermap(df_prop) #df_p bad variable name! \n",
    "ls_drop = ['RS-mTMA-5_sceneF03']\n",
    "#s_type = 'celltype' #'celltype3' #'leiden' #\n",
    "#s_cell ='DAPI_X' # 'CD31'#  'none' #\n",
    "if s_cell == 'CD31':\n",
    "    df = df_p.loc[:,['CD31',s_type,'slide_scene']].groupby([s_type,'slide_scene']).CD31.count()/df_p.loc[:,['CD31','slide_scene']].groupby(['slide_scene']).CD31.count()\n",
    "    df_prop = df.unstack().T.fillna(0).drop(ls_drop)\n",
    "elif s_cell == 'DAPI_X':  \n",
    "    df = df_man.loc[:,['DAPI_X',s_type,'slide_scene']].groupby([s_type,'slide_scene']).DAPI_X.count()/df_man.loc[:,['DAPI_X','slide_scene']].groupby(['slide_scene']).DAPI_X.count()\n",
    "    df_prop = df.unstack().T.fillna(0).drop(ls_drop)\n",
    "else:\n",
    "    df_prop = df_p.loc[:,['immune','stromal','tumor']]#df.unstack().T.fillna(0).drop(ls_drop)\n",
    "\n",
    "ls_drop_scene = df_prop[df_prop.index.isin(df_a[df_a.Group=='not_tumor'].slide_scene)].index\n",
    "df_prop_plot = df_prop.drop(ls_drop_scene)#.drop('endothelial',axis=1)\n",
    "\n",
    "\n",
    "d_color_new = dict(zip(['stroma_rich','stroma_poor'],['royalblue','orangered']))\n",
    "row_colors = df_prop_plot.index.map(d_a).map(d_color_new)\n",
    "\n",
    "\n",
    "g = sns.clustermap(df_prop_plot,figsize=(5,4),cmap='viridis',row_colors=row_colors,dendrogram_ratio=0.1,cbar_pos=(-.05, .87, .05, .15),#z_score=1\n",
    "       method='ward')\n",
    "#g.fig.suptitle(f'leiden {resolution}',x=.9) \n",
    "for label in d_color.keys():\n",
    "    g.ax_row_dendrogram.bar(0, 0, color=d_color[label],\n",
    "                            label=label, linewidth=0)\n",
    "g.ax_row_dendrogram.legend(loc=\"right\", ncol=1)\n",
    "g.savefig(f'{rootdir}/{s_date}/{s_sample}_{s_type}_clustermap_Group_leiden{resolution}.png',dpi=300)\n",
    "marker_genes = df_prop.iloc[:,g.dendrogram_col.reordered_ind].columns.tolist()\n",
    "categories_order = df_prop.iloc[g.dendrogram_row.reordered_ind,:].index.tolist()\n"
   ]
  },
  {
   "cell_type": "code",
   "execution_count": null,
   "id": "6be881b7-adde-4585-97ed-4985ca50535e",
   "metadata": {},
   "outputs": [],
   "source": [
    "#zoom in \n",
    "#g = sns.clustermap(df_prop_plot,figsize=(5,24),cmap='viridis',row_colors=row_colors,dendrogram_ratio=0.1,cbar_pos=(-.05, .87, .05, .15),#z_score=1\n",
    "#       method='ward')"
   ]
  },
  {
   "cell_type": "code",
   "execution_count": null,
   "id": "78f21588-57e9-49b1-b320-2edcc80ab12c",
   "metadata": {},
   "outputs": [],
   "source": [
    "d_color"
   ]
  },
  {
   "cell_type": "code",
   "execution_count": null,
   "id": "be2c6660-5fd0-4641-8983-388fe216a07b",
   "metadata": {},
   "outputs": [],
   "source": [
    "df_prop_plot.index.map(adata.obs.leiden.astype('str').replace(d_replace))"
   ]
  },
  {
   "cell_type": "code",
   "execution_count": null,
   "id": "4b3bc5b2-7e8a-4362-8721-45e18b2b8cca",
   "metadata": {},
   "outputs": [],
   "source": [
    "#d_color = dict(zip(sorted(adata.obs.leiden.replace(d_replace).unique()),sns.color_palette()[0:5]))\n",
    "row_colors = df_prop_plot.index.map(adata.obs.leiden.astype('str').replace(d_replace)).map(d_color)\n",
    "\n",
    "g = sns.clustermap(df_prop_plot,figsize=(5,4),cmap='viridis',row_colors=row_colors,dendrogram_ratio=0.1,\n",
    "                   cbar_pos=(-.05, .87, .05, .15),       #z_score=0\n",
    "                  method='ward')\n",
    "#g.fig.suptitle(f'leiden {resolution}',x=.9) \n",
    "for label in adata.obs.leiden.replace(d_replace).unique():\n",
    "    g.ax_row_dendrogram.bar(0, 0, color=d_color[label],\n",
    "                            label=label, linewidth=0)\n",
    "g.ax_row_dendrogram.legend(loc=\"right\", ncol=1,framealpha=1)\n",
    "g.savefig(f'{rootdir}/{s_date}/{s_sample}_{s_type}_clustermap_Group_leiden{resolution}_leiden.png',dpi=300)\n",
    "marker_genes = df_prop.iloc[:,g.dendrogram_col.reordered_ind].columns.tolist()\n",
    "categories_order = df_prop.iloc[g.dendrogram_row.reordered_ind,:].index.tolist()"
   ]
  },
  {
   "cell_type": "code",
   "execution_count": null,
   "id": "ddd336d8-e302-464e-8dfa-dc7b3c9378f4",
   "metadata": {},
   "outputs": [],
   "source": [
    "d_cell3 = dict(zip(df_p.index,df_p.leiden))"
   ]
  },
  {
   "cell_type": "markdown",
   "id": "ab4436b9-7803-45d3-84e6-b4d95db2cc23",
   "metadata": {},
   "source": [
    "## Annotate Leiden <a name=\"lbar\"></a>\n",
    "\n",
    "18 cell types\n",
    "\n",
    "\n",
    "[contents](#contents)"
   ]
  },
  {
   "cell_type": "code",
   "execution_count": null,
   "id": "79377470-66ca-43c7-9b99-1c3dba3d42eb",
   "metadata": {},
   "outputs": [],
   "source": [
    "#n_neighbors = 16\n",
    "#n_markers = 24\n",
    "#resolution = 0.6\n",
    "#adata = sc.read_h5ad(f'20211110_RS-mTMA-5_{n_neighbors}neighbors_{n_markers}markers_BGSubtracted_leiden{resolution}.h5ad')\n",
    "#adata = sc.read_h5ad(f'20211110_RS-mTMA-5_s_15neighbors_24markers_BGSubtracted_leiden0.6.h5ad')\n",
    "\n",
    "s_sample = '20211110_RS-mTMA-5' #'20211110_RS-mTMA-5_s' # \n",
    "s_type = 'BGSubtracted'\n",
    "s_date = s_sample.split('_')[0]\n",
    "n_neighbors = 16 #15 #16\n",
    "n_markers = 24 #23 #24\n",
    "resolution = 0.6\n",
    "results_file = f'{s_sample}_{n_neighbors}neighbors_{n_markers}markers_{s_type}_leiden{resolution}.h5ad'\n",
    "adata = sc.read_h5ad(results_file)"
   ]
  },
  {
   "cell_type": "code",
   "execution_count": null,
   "id": "638cf709-42d2-47f0-8757-210d2863ccf7",
   "metadata": {},
   "outputs": [],
   "source": [
    "results_file"
   ]
  },
  {
   "cell_type": "code",
   "execution_count": null,
   "id": "f02c39a3-be45-448f-815f-1c905319f5a0",
   "metadata": {},
   "outputs": [],
   "source": [
    "adata.var.index"
   ]
  },
  {
   "cell_type": "code",
   "execution_count": null,
   "id": "cde9794e-0f60-4518-9e50-d71426646d9d",
   "metadata": {},
   "outputs": [],
   "source": [
    "#figname=f'Umap_{n_neighbors}_neighbors_{n_markers}_markers.png'\n",
    "#title=figname.split('.png')[0].replace('_',' ')\n",
    "#fig = sc.pl.umap(adata, color=adata.var.index,vmin='p1.5',vmax='p99.5',ncols=4,save=figname)\n"
   ]
  },
  {
   "cell_type": "code",
   "execution_count": null,
   "id": "7920418a-2e7f-46bc-9b13-9e0dc11c8b8f",
   "metadata": {
    "tags": []
   },
   "outputs": [],
   "source": [
    "fig,ax = plt.subplots(figsize=(3,3),dpi=300) #bad clust '19','20','17'\n",
    "figname=f'leiden_{n_neighbors}_{n_markers}_{resolution}.png'\n",
    "sc.pl.umap(adata, color='leiden',ax=ax,title=figname.split('.png')[0].replace('_',' '),wspace=.25,save=figname,)"
   ]
  },
  {
   "cell_type": "code",
   "execution_count": null,
   "id": "90cb7de1-8daf-4482-923e-9d0dde78ac56",
   "metadata": {},
   "outputs": [],
   "source": [
    "# weird ones\n",
    "'''\n",
    "s_slide = 'RS-mTMA-5_sceneI08' #\n",
    "#s_slide = 'RS-mTMA-5_sceneI02'\n",
    "#for s_slide in adata.obs.slide.unique():\n",
    "adata.obs['test'] = (adata.obs.slide == s_slide).replace({True:1,False:0})\n",
    "sc.pl.umap(adata, color='test',title=s_slide)\n",
    "'''"
   ]
  },
  {
   "cell_type": "code",
   "execution_count": null,
   "id": "280a341a-5e79-498c-985d-55af6df63528",
   "metadata": {
    "tags": []
   },
   "outputs": [],
   "source": [
    "# weird ones\n",
    "s_slide = '14'#'10' #\n",
    "#s_slide = 'RS-mTMA-5_sceneI02'\n",
    "#for s_slide in adata.obs.slide.unique():\n",
    "adata.obs['test'] = (adata.obs.leiden == s_slide).replace({True:1,False:0})\n",
    "sc.pl.umap(adata, color='test',title=s_slide)"
   ]
  },
  {
   "cell_type": "code",
   "execution_count": null,
   "id": "404ebe64-5e19-4980-b339-443cf7deb087",
   "metadata": {},
   "outputs": [],
   "source": [
    "if results_file == '20211110_RS-mTMA-5_s_15neighbors_24markers_BGSubtracted_leiden0.6.h5ad':\n",
    "    d_celltypes = {}\n",
    "elif results_file == '20211110_RS-mTMA-5_s_15neighbors_23markers_BGSubtracted_leiden0.6.h5ad':\n",
    "    print('good')\n",
    "    d_celltypes = {}\n",
    "else:\n",
    "    d_celltypes = {'18':'dendritic_imm.','11':'artifact','17':'artifact','19':'artifact','20':'artifact',\n",
    "               '7':'Myoepithelial',\n",
    "               '10':'Ecad-_tum','14':'Ecad-_tum',\n",
    "               '0':'Mix_imm_endothel.','3':'Mix_fb_endothel.','6':'NOS_stroma',\n",
    "               '16':'NOS_stroma','12':'Poorly_diff_tum',\n",
    "                   '13':'Ecad_low_tum','5':'CK5_SOX9_tum',\n",
    "      '4':'CK5/SOX9_low_tum','9':'CK5/SOX9_low_tum',   '8':'Ki67_pMYC_hi_tum', \n",
    "                   '15':'EpCAM_hi_tum',  '1':'CK5_Ki67_tum', '2':'Ecad_Ki67_hi_tum'} #'9':'EpCAM_hi_tum'\n",
    "#pd.DataFrame(pd.Series(d_celltypes)).to_csv('annotation_leiden_celltype.csv')\n",
    "#pd.DataFrame(pd.Series(d_celltypes)).to_csv('annotation_leiden_scale_celltype.csv')"
   ]
  },
  {
   "cell_type": "code",
   "execution_count": null,
   "id": "46c48c11-84c5-4877-87c4-acc7fd276774",
   "metadata": {},
   "outputs": [],
   "source": [
    "df_p = pd.DataFrame(data=adata.raw.X,index=adata.obs.index,columns=adata.var.index)\n",
    "df_p['leiden'] = adata.obs['leiden']\n",
    "if results_file == '20211110_RS-mTMA-5_s_15neighbors_24markers_BGSubtracted_leiden0.6.h5ad':\n",
    "    ls_drop_index = ['22','21','19','18']\n",
    "    tum_clust = []\n",
    "    imm_clust = []\n",
    "    endo_clust = []\n",
    "    str_clust = []\n",
    "    ls_merge = ['20','6']\n",
    "    df_p.loc[df_p.leiden.isin(ls_merge),'leiden'] = '6'\n",
    "elif results_file=='20211110_RS-mTMA-5_s_15neighbors_23markers_BGSubtracted_leiden0.6.h5ad':\n",
    "    ls_drop_index = ['19','18']\n",
    "    tum_clust = []\n",
    "    imm_clust = []\n",
    "    endo_clust = []\n",
    "    str_clust = []\n",
    "\n",
    "else:\n",
    "    ls_drop_index = ['19','20','17','11','9','14','16',]\n",
    "    tum_clust = ['10','12','7','14','5','4','9','8','15','1','2','13']\n",
    "    imm_clust = []\n",
    "    endo_clust = []\n",
    "    str_clust = ['0','3','6','18']\n",
    "    df_p = df_p.drop('CD8',axis=1)\n",
    "    ls_merge = ['10','14']\n",
    "    df_p.loc[df_p.leiden.isin(ls_merge),'leiden'] = '10'\n",
    "    ls_merge = ['4','9']\n",
    "    df_p.loc[df_p.leiden.isin(ls_merge),'leiden'] = '4'\n",
    "    ls_merge = ['16','6']\n",
    "    df_p.loc[df_p.leiden.isin(ls_merge),'leiden'] = '6'"
   ]
  },
  {
   "cell_type": "code",
   "execution_count": null,
   "id": "84ac70b0-4d70-4aa6-9134-69c8dd421355",
   "metadata": {},
   "outputs": [],
   "source": [
    "#clustermap\n",
    "b_annot = False\n",
    "#df_p = pd.DataFrame(data=adata.raw.X,index=adata.obs.index,columns=adata.var.index)\n",
    "#df_p['leiden'] = adata.obs['leiden']\n",
    "d_replace = {}\n",
    "d_replace.update(dict(zip(tum_clust,[f'{item}\\nep' for item in tum_clust])))\n",
    "d_replace.update(dict(zip(imm_clust,[f'{item}\\nim' for item in imm_clust])))\n",
    "d_replace.update(dict(zip(str_clust,[f'{item}\\ns' for item in str_clust])))\n",
    "d_replace.update(dict(zip(endo_clust,[f'{item}\\nen' for item in endo_clust])))\n",
    "if b_annot:\n",
    "    df_plot = df_p.groupby('leiden').mean().drop(ls_drop_index).dropna().rename(d_celltypes)#(d_replace)#d_replace\n",
    "    #df_plot = df_p.groupby('leiden').mean().drop(ls_drop_index).dropna().rename(d_replace)#d_replace\n",
    "else:\n",
    "    df_plot = df_p.groupby('leiden').mean().drop(ls_drop_index).dropna()\n",
    "df_plot.index.name = f'leiden {resolution}'\n",
    "g = sns.clustermap(df_plot,z_score=1,figsize=(10,8),cmap='viridis',method='ward',cbar_pos=(.01, .91, .05, .15),\n",
    "                   vmin=-2,vmax=2,dendrogram_ratio=0.1)\n",
    "g.ax_heatmap.set_xticklabels(g.ax_heatmap.get_xmajorticklabels(), fontsize = 16)\n",
    "g.ax_heatmap.set_yticklabels(g.ax_heatmap.get_ymajorticklabels(), fontsize = 16)\n",
    "\n",
    "g.savefig(f'{rootdir}/figures/{s_sample}_clustermap_leiden_{resolution}.png',dpi=300)\n",
    "marker_genes = df_plot.iloc[:,g.dendrogram_col.reordered_ind].columns.tolist()\n",
    "categories_order = df_plot.iloc[g.dendrogram_row.reordered_ind,:].index.tolist()"
   ]
  },
  {
   "cell_type": "code",
   "execution_count": null,
   "id": "e5d11a5f-30b9-4425-bc4e-c57e63330389",
   "metadata": {},
   "outputs": [],
   "source": [
    "#df_plot.to_csv(f'cycIF_celltype_vs_expression_for_Nick.csv')"
   ]
  },
  {
   "cell_type": "code",
   "execution_count": null,
   "id": "1e292ab2-c177-4d96-a01b-adedf435a0a3",
   "metadata": {},
   "outputs": [],
   "source": [
    "fig,ax=plt.subplots(figsize=(2,4),dpi=200)\n",
    "df_p[~df_p.leiden.isin(ls_drop_index)].groupby('leiden').count().loc[categories_order[::-1]].iloc[:,1].plot(kind='barh',title='Cell Count',ax=ax)\n",
    "plt.tight_layout()\n",
    "fig.savefig(f'./{s_date}/barplot_{n_neighbors}neighbors_{len(marker_genes)}markers_leiden{resolution}.png')"
   ]
  },
  {
   "cell_type": "code",
   "execution_count": null,
   "id": "e639f9db-d88f-4a39-8f87-b9f8b50af4da",
   "metadata": {},
   "outputs": [],
   "source": [
    "df_p['Group'] = [d_a[item.split('_cell')[0]] for item in df_p.index]\n",
    "df_p['slide_scene'] = [item.split('_cell')[0] for item in df_p.index]\n",
    "df_p['leiden_subtype'] = df_p.slide_scene.map(d_cell3).replace( {'0':'SR_IR','1':'SR_IP','2':'SP','3':'SP'}) #d_replace = {'0':'SR_IR','1':'SR_IP','2':'SP','3':'SP'}\n",
    "df_p['countme'] = True\n",
    "s_clust = '2'\n",
    "#df_p['core'] = df_p.merge(df_norm.loc[:,['core']],left_index=True,right_index=True).core\n",
    "df_p.groupby(['leiden','slide_scene']).count().loc[s_clust].iloc[:,1].sort_values(ascending=False)[0:10]"
   ]
  },
  {
   "cell_type": "code",
   "execution_count": null,
   "id": "0590b2cc-a177-4d42-a1c8-af6d0f92c3b4",
   "metadata": {},
   "outputs": [],
   "source": [
    "#plot one leiden \n",
    "\n",
    "b_start = False #True\n",
    "if b_start:\n",
    "    from mplex_image import analyze\n",
    "    colors = mpl.cm.tab20b.colors + mpl.cm.tab20c.colors\n",
    "    df_m = df_p.merge(df_man.loc[:,['DAPI_X','DAPI_Y','celltype']],left_index=True,right_index=True)\n",
    "    df_pos = analyze.celltype_to_bool(df_m,'leiden')\n",
    "    df_pos.columns = [str(item) for item in df_pos.columns]\n",
    "    df_data = df_m\n",
    "\n",
    "s_slide = 'RS-mTMA-5_sceneB08' #'RS-mTMA-5_sceneC08' #'RS-mTMA-5_sceneG02' #'RS-mTMA-5_sceneG06' #'RS-mTMA-5_sceneG12' #'RS-mTMA-5_sceneI06' #'RS-mTMA-5_sceneA05' #'RS-mTMA-5_sceneC03' #'RS-mTMA-5_sceneI01' #'RS-mTMA-5_sceneH07' #'RS-mTMA-5_sceneC10' #'RS-mTMA-5_sceneA01' #\n",
    "\n",
    "#plot negative cells\n",
    "df_scene = df_data[df_data.index.str.contains(s_slide)]\n",
    "if len(df_scene) ==0:\n",
    "    print('not included')\n",
    "else:\n",
    "    fig,ax = plt.subplots(figsize=(5,4.5),dpi=200)\n",
    "    ax.scatter(data=df_scene,x='DAPI_X',y='DAPI_Y',color='silver',s=0.1,label=f'')\n",
    "    #for idxs, s_color_int in enumerate(range(len(df_pos.columns))):\n",
    "    for idxs, s_color in enumerate(df_pos.columns):\n",
    "        s_color = s_clust\n",
    "        s_color = str(s_color)\n",
    "        if len(df_data[(df_data.slide_scene==s_slide) & (df_pos.loc[:,s_color])])>=1:\n",
    "            #plot positive cells\n",
    "            ls_index = df_data[(df_data.slide_scene==s_slide) & (df_pos.loc[:,s_color])].index\n",
    "            ax.scatter(data=df_data.loc[ls_index],x='DAPI_X',y='DAPI_Y',label=f'{s_color}',s=0.1,color=colors[idxs])\n",
    "        break\n",
    "    ax.set_title(f\"{s_slide}\", fontsize=16) # \\n {d_a[s_slide]}\n",
    "    ax.axis('equal')\n",
    "    ax.set_ylim(ax.get_ylim()[::-1])\n",
    "    #ax.set_xticklabels('')\n",
    "    #ax.set_yticklabels('')\n",
    "    #break\n",
    "    plt.legend(markerscale=10,framealpha=.5) \n",
    "    #fig.savefig(f'{codedir}/{s_date}/{s_slide}_leiden{resolution}_scatterplot.png')\n"
   ]
  },
  {
   "cell_type": "code",
   "execution_count": null,
   "id": "e5db97af-e691-437f-b51b-9221face8859",
   "metadata": {},
   "outputs": [],
   "source": [
    "d_color"
   ]
  },
  {
   "cell_type": "code",
   "execution_count": null,
   "id": "3115501c-c60d-454e-992d-cc1f3e8d0e6e",
   "metadata": {},
   "outputs": [],
   "source": [
    "%matplotlib inline\n",
    "fig,ax=plt.subplots(figsize=(2.5,3.8),dpi=200)\n",
    "df_wide = df_p.dropna().groupby(['leiden','leiden_subtype']).count().countme.unstack().loc[categories_order[::-1]]\n",
    "df_wide_s = df_wide/df_p.groupby('leiden_subtype').count().countme\n",
    "df_wide_s.plot(kind='barh',ax=ax,width=.8,title='Fraction Cells',color=d_color)\n",
    "ax.set_title('Fraction Cells',fontsize=9)\n",
    "ax.legend(bbox_to_anchor=(1,.9))\n",
    "plt.tight_layout()\n",
    "fig.savefig(f'./{s_date}/barplot3_{n_neighbors}neighbors_{len(marker_genes)}markers_leiden{resolution}.png')"
   ]
  },
  {
   "cell_type": "code",
   "execution_count": null,
   "id": "79acdb79-40ed-4106-9c07-2a5364060abe",
   "metadata": {},
   "outputs": [],
   "source": [
    "df_p.loc[df_p.leiden.isin(tum_clust),'leiden_celltype'] = 'epithelial'\n",
    "df_p.loc[df_p.leiden.isin(str_clust),'leiden_celltype'] = 'stromal'\n",
    "df_p.loc[df_p.leiden.isin(imm_clust),'leiden_celltype'] = 'immune'\n",
    "df_p.loc[df_p.leiden.isin(endo_clust),'leiden_celltype'] = 'endothelial'\n",
    "#df_p.loc[ls_drop_index,'leiden_celltype'] = 'artifact'\n",
    "#df_p.leiden_celltype = df_p.leiden_celltype.fillna('NOS')\n",
    "adata.obs['leiden_celltype'] = df_p.leiden_celltype\n",
    "fig,ax = plt.subplots(figsize=(3,3),dpi=200)\n",
    "figname=f'_leiden_celltype.png'\n",
    "sc.pl.umap(adata, color='leiden_celltype',ax=ax,title='Annotated Leiden celltypes',save=figname,wspace=0.25) #"
   ]
  },
  {
   "cell_type": "code",
   "execution_count": null,
   "id": "c28e6be6-cab5-4a9d-abb9-2be42112c1cd",
   "metadata": {},
   "outputs": [],
   "source": [
    "adata.obs['celltype'] = df_man.merge(adata.to_df(),left_index=True,right_index=True,how='right').celltype.replace({'immune':'stromal','endothelial':'stromal'})\n",
    "fig,ax = plt.subplots(figsize=(3,3),dpi=200)\n",
    "figname=f'manual__celltype.png'\n",
    "sc.pl.umap(adata, color='celltype',ax=ax,title='Manual gating',save=figname,wspace=0.25) #"
   ]
  },
  {
   "cell_type": "code",
   "execution_count": null,
   "id": "a4467a56-97fd-495b-990f-f5955bf2b100",
   "metadata": {},
   "outputs": [],
   "source": [
    "#the cell types\n",
    "df_bar = df_p.dropna().groupby(['leiden','leiden_subtype']).count().countme.unstack()\n",
    "g = sns.clustermap(df_bar.drop(ls_drop_index).rename(d_celltypes),z_score=0,cmap='viridis',dendrogram_ratio=0.15,figsize=(8,8))\n",
    "g.ax_heatmap.set_xticklabels(g.ax_heatmap.get_xmajorticklabels(), fontsize = 20)\n",
    "g.ax_heatmap.set_yticklabels(g.ax_heatmap.get_ymajorticklabels(), fontsize = 16)\n",
    "g.savefig(f'./figures/Leiden_celltypes_per_leiden_subtype.png',dpi=300)"
   ]
  },
  {
   "cell_type": "code",
   "execution_count": null,
   "id": "9f651bc3-7c8c-4738-99b9-4e51f0d767d6",
   "metadata": {},
   "outputs": [],
   "source": [
    "#the cell types\n",
    "df_bar = df_p.dropna().groupby(['leiden','leiden_subtype']).count().countme.unstack()\n",
    "g = sns.clustermap(df_bar.drop(ls_drop_index).rename(d_celltypes),z_score=1,\n",
    "                   cmap='viridis',dendrogram_ratio=0.15,figsize=(8,8))\n",
    "g.ax_heatmap.set_xticklabels(g.ax_heatmap.get_xmajorticklabels(), fontsize = 20)\n",
    "g.ax_heatmap.set_yticklabels(g.ax_heatmap.get_ymajorticklabels(), fontsize = 16)\n",
    "g.savefig(f'./figures/Leiden_celltypes_per_leiden_subtype_noz.png',dpi=300)"
   ]
  },
  {
   "cell_type": "code",
   "execution_count": null,
   "id": "e413f1c3-4ed7-4236-98b6-62c65f00e23d",
   "metadata": {},
   "outputs": [],
   "source": [
    "#the cores\n",
    "d_color = dict(zip(['stroma_rich','stroma_poor'],['gold','mediumblue']))\n",
    "df_prop_plot = (df_p.dropna().groupby(['slide_scene','leiden']).count().countme.unstack().T/(df_p.dropna().groupby(['slide_scene']).count().countme)).T\n",
    "df_prop_plot = df_prop_plot.drop(ls_drop_index,axis=1).rename(d_celltypes,axis=1).T\n",
    "row_colors = df_prop_plot.columns.map(d_a).map(d_color)\n",
    "g = sns.clustermap(df_prop_plot,col_colors=row_colors,cbar_pos=(.01, .91, .05, .15),\n",
    "                   vmin=-1.5,vmax=1.5,z_score=1,\n",
    "                   method='ward',\n",
    "                  cmap='viridis',dendrogram_ratio=0.1,figsize=(6.5,5.5))\n",
    "g.ax_heatmap.set_yticklabels(g.ax_heatmap.get_ymajorticklabels(), fontsize = 12)\n",
    "g.savefig(f'{rootdir}/figures/{s_sample}_clustermap_leiden_by_patient_histology_{resolution}.png',dpi=300)"
   ]
  },
  {
   "cell_type": "code",
   "execution_count": null,
   "id": "24a0685d-a2ce-4e09-9a4c-241c04edb278",
   "metadata": {},
   "outputs": [],
   "source": [
    "d_color = {'SR_IR': (0.12156862745098039, 0.4666666666666667, 0.7058823529411765), #blue\n",
    " 'SP': (1.0, 0.4980392156862745, 0.054901960784313725), #orange\n",
    " 'SR_IP': (0.17254901960784313, 0.6274509803921569, 0.17254901960784313)} #green\n",
    "d_replace = {'0':'SR_IR','1':'SR_IP','2':'SP','3':'SP'}"
   ]
  },
  {
   "cell_type": "code",
   "execution_count": null,
   "id": "11a7cf64-f105-4926-986b-b87371abe790",
   "metadata": {},
   "outputs": [],
   "source": [
    "d_color = {'0': (0.12156862745098039, 0.4666666666666667, 0.7058823529411765), #blue SP\n",
    " '2': (1.0, 0.4980392156862745, 0.054901960784313725), #orange\n",
    " '3': (1.0, 0.4980392156862745, 0.054901960784313725), #orange\n",
    " '1': (0.17254901960784313, 0.6274509803921569, 0.17254901960784313)} #green\n",
    "#d_replace = {'0':'SR_IR','1':'SR_IP','2':'SP','3':'SP'}\n",
    "df_prop_plot = (df_p.dropna().groupby(['slide_scene','leiden']).count().countme.unstack().T/(df_p.dropna().groupby(['slide_scene']).count().countme)).T\n",
    "row_colors = df_prop_plot.index.map(d_cell3).map(d_color)\n",
    "df_prop_plot = df_prop_plot.drop(ls_drop_index,axis=1).rename(d_celltypes,axis=1).T\n",
    "g = sns.clustermap(df_prop_plot,col_colors=row_colors,cbar_pos=(.01, .91, .05, .15),\n",
    "                   vmin=-1.5,vmax=1.5,z_score=1,\n",
    "                   method='ward',\n",
    "                   cmap='viridis',dendrogram_ratio=0.1,figsize=(6.5,5.5))\n",
    "g.ax_heatmap.set_yticklabels(g.ax_heatmap.get_ymajorticklabels(), fontsize = 12)\n",
    "g.savefig(f'{rootdir}/{s_date}/{s_sample}_clustermap_leiden_by_patient_Subtype_{resolution}.png',dpi=300)"
   ]
  },
  {
   "cell_type": "code",
   "execution_count": null,
   "id": "5171e120-f83e-4eb5-b472-1d7c766995d9",
   "metadata": {
    "tags": []
   },
   "outputs": [],
   "source": [
    "df_out = df_p.merge(df_man.loc[:,['celltype3']],left_index=True,right_index=True) #,'DAPI_X','DAPI_Y'"
   ]
  },
  {
   "cell_type": "code",
   "execution_count": null,
   "id": "4d3fed56-5ae8-47c6-afe1-50bcbefab1c7",
   "metadata": {
    "tags": []
   },
   "outputs": [],
   "source": [
    "#old\n",
    "d_sub = {'RS-mTMA-5_sceneA01': '0', 'RS-mTMA-5_sceneA04': '0', 'RS-mTMA-5_sceneA05': '0', 'RS-mTMA-5_sceneA06': '0', 'RS-mTMA-5_sceneA07': '1',\n",
    " 'RS-mTMA-5_sceneA08': '0', 'RS-mTMA-5_sceneA09': '1', 'RS-mTMA-5_sceneB01': '0', 'RS-mTMA-5_sceneB04': '1', 'RS-mTMA-5_sceneB05': '1',\n",
    " 'RS-mTMA-5_sceneB07': '1', 'RS-mTMA-5_sceneB08': '2', 'RS-mTMA-5_sceneB09': '1', 'RS-mTMA-5_sceneB11': '0', 'RS-mTMA-5_sceneC01': '0',\n",
    " 'RS-mTMA-5_sceneC03': '0', 'RS-mTMA-5_sceneC04': '1', 'RS-mTMA-5_sceneC05': '0', 'RS-mTMA-5_sceneC07': '1', 'RS-mTMA-5_sceneC08': '0',\n",
    " 'RS-mTMA-5_sceneC09': '0', 'RS-mTMA-5_sceneC10': '0', 'RS-mTMA-5_sceneC11': '2', 'RS-mTMA-5_sceneC12': '1', 'RS-mTMA-5_sceneD01': '1',\n",
    " 'RS-mTMA-5_sceneD03': '0', 'RS-mTMA-5_sceneD05': '1', 'RS-mTMA-5_sceneD06': '1', 'RS-mTMA-5_sceneD07': '2', 'RS-mTMA-5_sceneD08': '0',\n",
    " 'RS-mTMA-5_sceneD10': '1', 'RS-mTMA-5_sceneD11': '2', 'RS-mTMA-5_sceneE03': '0', 'RS-mTMA-5_sceneE04': '0', 'RS-mTMA-5_sceneE05': '1',\n",
    " 'RS-mTMA-5_sceneE07': '2', 'RS-mTMA-5_sceneE08': '0', 'RS-mTMA-5_sceneE09': '1', 'RS-mTMA-5_sceneE10': '1', 'RS-mTMA-5_sceneE11': '1',\n",
    " 'RS-mTMA-5_sceneF02': '0', 'RS-mTMA-5_sceneF05': '1', 'RS-mTMA-5_sceneF07': '0', 'RS-mTMA-5_sceneF08': '2', 'RS-mTMA-5_sceneF09': '2',\n",
    " 'RS-mTMA-5_sceneF10': '0', 'RS-mTMA-5_sceneF11': '2', 'RS-mTMA-5_sceneF12': '0', 'RS-mTMA-5_sceneG01': '1', 'RS-mTMA-5_sceneG02': '0',\n",
    " 'RS-mTMA-5_sceneG04': '0', 'RS-mTMA-5_sceneG05': '0', 'RS-mTMA-5_sceneG06': '2', 'RS-mTMA-5_sceneG08': '2', 'RS-mTMA-5_sceneG09': '2',\n",
    " 'RS-mTMA-5_sceneG10': '2', 'RS-mTMA-5_sceneG11': '2', 'RS-mTMA-5_sceneG12': '2', 'RS-mTMA-5_sceneH03': '0', 'RS-mTMA-5_sceneH04': '2',\n",
    " 'RS-mTMA-5_sceneH05': '0', 'RS-mTMA-5_sceneH06': '2', 'RS-mTMA-5_sceneH07': '0', 'RS-mTMA-5_sceneH08': '0', 'RS-mTMA-5_sceneH09': '1',\n",
    " 'RS-mTMA-5_sceneH10': '0', 'RS-mTMA-5_sceneH11': '0', 'RS-mTMA-5_sceneH12': '2', 'RS-mTMA-5_sceneI01': '1', 'RS-mTMA-5_sceneI02': '1',\n",
    " 'RS-mTMA-5_sceneI03': '0', 'RS-mTMA-5_sceneI04': '0', 'RS-mTMA-5_sceneI05': '0', 'RS-mTMA-5_sceneI06': '0', 'RS-mTMA-5_sceneI07': '2',\n",
    " 'RS-mTMA-5_sceneI08': '1', 'RS-mTMA-5_sceneI09': '0', 'RS-mTMA-5_sceneI11': '2'}"
   ]
  },
  {
   "cell_type": "code",
   "execution_count": null,
   "id": "c91a2dfc-ba63-4fb4-860f-424d8f61c781",
   "metadata": {},
   "outputs": [],
   "source": [
    "s_out = 'results_20211129_RS-mTMA-5_Celltype_Subtype_Group.csv'\n",
    "s_out = 'results_20220107_RS-mTMA-5_Celltype_Subtype_Group.csv'\n",
    "s_out = 'results_20220119_RS-mTMA-5_Celltype_Subtype_Group.csv'\n",
    "s_out = 'results_20220121_RS-mTMA-5_Celltype_Subtype_Group.csv'\n",
    "if not os.path.exists(s_out):\n",
    "    print('saving csv')\n",
    "    df_out.to_csv(s_out)"
   ]
  },
  {
   "cell_type": "markdown",
   "id": "69a2f382-5791-4c2a-ab70-05751f10445f",
   "metadata": {},
   "source": [
    "## visualize"
   ]
  },
  {
   "cell_type": "code",
   "execution_count": null,
   "id": "97cd661d-92cb-46d4-bdc6-ac1ee1548be6",
   "metadata": {},
   "outputs": [],
   "source": [
    "from mplex_image import analyze\n",
    "#df_p = pd.read_csv(f'results_{s_sample}_leiden{resolution}_gated_celltype.csv',index_col=0)\n",
    "df_p['slide_scene'] = [item.split('_cell')[0] for item in df_p.index]\n",
    "#df_p['slide'] = [item.split('_')[0] for item in df_p.index]\n",
    "#annotate\n",
    "#d_a = dict(zip(df_a.slide_scene,df_a.Group))\n",
    "#df_p['Group'] = df_p.slide_scene.map(d_a)\n",
    "df_m = df_p.merge(df_man.loc[:,['DAPI_X','DAPI_Y','celltype']],left_index=True,right_index=True)\n",
    "df_pos = analyze.celltype_to_bool(df_m,'leiden')\n",
    "df_pos.columns = [str(item) for item in df_pos.columns]"
   ]
  },
  {
   "cell_type": "code",
   "execution_count": null,
   "id": "955e4ba2-6ffa-41b3-a8f1-8908593c2bcd",
   "metadata": {},
   "outputs": [],
   "source": [
    "sns.palplot(mpl.cm.Paired.colors)\n",
    "d_color = {'Ecad-_tum':mpl.cm.Paired.colors[0],\n",
    "           'CK5/SOX9_low_tum':mpl.cm.Paired.colors[8],\n",
    "           'Mix_fb_endothel.':mpl.cm.Paired.colors[10],\n",
    "           'CK5_SOX9_tum':mpl.cm.Paired.colors[9],\n",
    "           'Ecad_Ki67_hi_tum':mpl.cm.Paired.colors[3],\n",
    "           'Myoepithelial':mpl.cm.Paired.colors[1],\n",
    "           'Ki67_pMYC_hi_tum':mpl.cm.Paired.colors[5],\n",
    "           'CK5_Ki67_tum':mpl.cm.Paired.colors[7],\n",
    "           'Mix_imm_endothel.':mpl.cm.Paired.colors[4],}\n",
    "d_color.update({'artifact':'gray'})\n",
    "\n",
    "#set(d_celltypes.keys()) - set(ls_rare)\n",
    "ls_rare = ['20', '15', '14', '9', '19', '16', '6', '13', '12', '11','18']\n",
    "ls_com = ['17', '4', '10', '1', '8', '0', '7', '5', '3', '2']#'17',\n",
    "#ls_com = d_celltypes.keys()\n",
    "#set(['10', '12', '13', '15', '16', '17', '19', '20', '6', '9']).intersection(set(['10', '12', '13', '15', '16', '19', '20', '6']))\n",
    "d_com = dict(zip(ls_com,[d_celltypes[item] for item in ls_com]))\n",
    "#d_color = dict(zip(set([item for key, item in d_com.items()]),mpl.cm.tab10.colors[::-1]))\n",
    "#d_color = dict(zip(set([item for key, item in d_celltypes.items()]),mpl.cm.tab20.colors[::-1]))\n",
    "d_color.update({'artifact':'gray'})"
   ]
  },
  {
   "cell_type": "code",
   "execution_count": null,
   "id": "90de75d4-af30-48f2-bd39-cf5b6136be7a",
   "metadata": {},
   "outputs": [],
   "source": [
    "#plot all groups spatially - leiden \n",
    "ls_out = []\n",
    "\n",
    "#for s_slide in sorted(set(df_p.slide_scene)):\n",
    "for s_slide in ['RS-mTMA-5_sceneB08','RS-mTMA-5_sceneI03','RS-mTMA-5_sceneH11','RS-mTMA-5_sceneA05']:\n",
    "    s_slide = 'RS-mTMA-5_sceneB07'\n",
    "    #s_slide = 'RS-mTMA-5_sceneA09'\n",
    "    fig,ax = plt.subplots(figsize=(8,4.5),dpi=300)\n",
    "    #plot negative cells\n",
    "    df_scene = df_m[df_m.index.str.contains(s_slide)]\n",
    "    ax.scatter(data=df_scene,x='DAPI_X',y='DAPI_Y',color='silver',s=0.1,label=f'')\n",
    "    #for idxs, s_color_int in enumerate(range(len(df_pos.columns))):\n",
    "    for idxs, s_color in enumerate(d_com.keys()):\n",
    "        s_color = str(s_color)\n",
    "        if len(df_m[(df_m.slide_scene==s_slide) & (df_pos.loc[:,s_color])])>=10:\n",
    "            #plot positive cells\n",
    "            ax.scatter(data=df_m[(df_m.slide_scene==s_slide) & (df_pos.loc[:,s_color])],x='DAPI_X',y='DAPI_Y',\n",
    "                       label=d_celltypes[s_color].replace('artifact','_artifact'),\n",
    "                       s=0.1,color=d_color[d_celltypes[s_color]])\n",
    "        else:\n",
    "            ls_out.append(s_color)\n",
    "    ax.set_title(f\"{s_slide} \\n {d_a[s_slide]}\", fontsize=16)\n",
    "    ax.axis('equal')\n",
    "    ax.set_ylim(ax.get_ylim()[::-1])\n",
    "    ax.get_xaxis().set_ticks([])\n",
    "    ax.get_yaxis().set_ticks([])\n",
    "    for spine in ax.spines.values():\n",
    "        spine.set_visible(False)\n",
    "    plt.tight_layout()\n",
    "    plt.legend(markerscale=15,framealpha=.5,bbox_to_anchor=(.685,.8),fontsize=8) \n",
    "    fig.savefig(f'{rootdir}/SpatialPlots/{s_slide}_leiden{resolution}_scatterplot.png')\n",
    "    break"
   ]
  },
  {
   "cell_type": "code",
   "execution_count": null,
   "id": "06bab7e9-fefc-44d9-bd9b-7506cf10d5a2",
   "metadata": {},
   "outputs": [],
   "source": [
    "df_pos = analyze.celltype_to_bool(df_m,'celltype')\n",
    "df_pos.columns"
   ]
  },
  {
   "cell_type": "code",
   "execution_count": null,
   "id": "08fc6566-2f41-43fc-8940-359366e89b0f",
   "metadata": {},
   "outputs": [],
   "source": [
    "#plot all groups spatially - leiden \n",
    "ls_out = []\n",
    "df_pos = analyze.celltype_to_bool(df_m,'celltype')\n",
    "d_color = {'endothelial':'C3', 'epithelial':'C0', 'immune':'C2', 'stromal':'C1'}\n",
    "d_color = {'endothelial':'C1', 'epithelial':'C0', 'immune':'C2', 'stromal':'C1'}\n",
    "d_color = {'endothelial':'C3', 'epithelial':'C1', 'immune':'C0', 'stromal':'C2'}\n",
    "for s_slide in sorted(set(df_p.slide_scene)):\n",
    "    s_slide = 'RS-mTMA-5_sceneB07'\n",
    "    s_slide = 'RS-mTMA-5_sceneA09'\n",
    "    s_slide = 'RS-mTMA-5_sceneC01' #SR\n",
    "    s_slide = 'RS-mTMA-5_sceneD07'#SP\n",
    "    fig,ax = plt.subplots(figsize=(8,4.5),dpi=300)\n",
    "    #plot negative cells\n",
    "    df_scene = df_m[df_m.index.str.contains(s_slide)]\n",
    "    ax.scatter(data=df_scene,x='DAPI_X',y='DAPI_Y',color='silver',s=0.1,label=f'')\n",
    "    #for idxs, s_color_int in enumerate(range(len(df_pos.columns))):\n",
    "    for idxs, s_color in enumerate(df_pos.columns):\n",
    "        if len(df_m[(df_m.slide_scene==s_slide) & (df_pos.loc[:,s_color])])>=10:\n",
    "            #plot positive cells\n",
    "            ax.scatter(data=df_m[(df_m.slide_scene==s_slide) & (df_pos.loc[:,s_color])],x='DAPI_X',y='DAPI_Y',\n",
    "                       label=s_color.replace('endothelial','endothelial'),\n",
    "                       s=0.1,color=d_color[s_color])\n",
    "        else:\n",
    "            ls_out.append(s_color)\n",
    "    ax.set_title(f\"{s_slide} \\n {d_a[s_slide]}\", fontsize=16)\n",
    "    ax.axis('equal')\n",
    "    ax.set_ylim(ax.get_ylim()[::-1])\n",
    "    ax.get_xaxis().set_ticks([])\n",
    "    ax.get_yaxis().set_ticks([])\n",
    "    for spine in ax.spines.values():\n",
    "        spine.set_visible(False)\n",
    "    plt.tight_layout()\n",
    "    plt.legend(markerscale=15,framealpha=.5,bbox_to_anchor=(.75,.7)) \n",
    "    fig.savefig(f'{rootdir}/{s_date}/{s_slide}_gated_celltype3_scatterplot.png')\n",
    "    break"
   ]
  },
  {
   "cell_type": "code",
   "execution_count": null,
   "id": "36e23441-11e9-47e5-9687-09a9ec3419f1",
   "metadata": {},
   "outputs": [],
   "source": [
    "df_prop.sort_values(by='immune',ascending='False')\n",
    "ls_index = df_prop.sort_values(by='stromal',ascending='False')[0:20].index"
   ]
  },
  {
   "cell_type": "code",
   "execution_count": null,
   "id": "933fc9ce-1c17-48be-85ed-5fb50f4912d6",
   "metadata": {},
   "outputs": [],
   "source": [
    "s_slide = 'RS-mTMA-5_sceneB08'\n",
    "s_slide = 'RS-mTMA-5_sceneC08'\n",
    "s_slide = 'RS-mTMA-5_sceneF02'\n",
    "s_slide = 'RS-mTMA-5_sceneC01'\n",
    "s_slide = 'RS-mTMA-5_sceneB08'\n",
    "s_slide = 'RS-mTMA-5_sceneC11'\n",
    "df_a[df_a.slide_scene == s_slide]\n",
    "df_a[(df_a.slide_scene.isin(ls_index)) & (df_a.Group=='stroma_poor')]"
   ]
  },
  {
   "cell_type": "markdown",
   "id": "132563e8-b9d3-457e-8e4b-09d91145d9e3",
   "metadata": {},
   "source": [
    "## load  results mouse TMA <a name=\"results\"></a>\n",
    "\n",
    "celltype, subtype and group\n",
    "\n",
    "- subtype versus marker expression\n",
    "\n",
    "- histology group versus marker expression\n",
    "\n",
    "\n",
    "[contents](#contents)"
   ]
  },
  {
   "cell_type": "code",
   "execution_count": null,
   "id": "346aadc4-54f0-48a5-9141-e2046acfd33a",
   "metadata": {},
   "outputs": [],
   "source": [
    "d_color = {'SR_IR': (0.12156862745098039, 0.4666666666666667, 0.7058823529411765), #blue\n",
    " 'SP': (1.0, 0.4980392156862745, 0.054901960784313725), #orange\n",
    " 'SR_IP': (0.17254901960784313, 0.6274509803921569, 0.17254901960784313)} #green\n",
    "d_replace = {'0':'SR_IR','1':'SR_IP','2':'SP','3':'SP'}"
   ]
  },
  {
   "cell_type": "code",
   "execution_count": null,
   "id": "de4745f5-319b-44a1-a608-00639b0616cf",
   "metadata": {},
   "outputs": [],
   "source": [
    "#df_res = pd.read_csv('results_20211129_RS-mTMA-5_Celltype_Subtype_Group.csv',index_col=0)\n",
    "#df_res = pd.read_csv('results_20220107_RS-mTMA-5_Celltype_Subtype_Group.csv',index_col=0)\n",
    "#df_res = pd.read_csv('results_20220119_RS-mTMA-5_Celltype_Subtype_Group.csv',index_col=0)\n",
    "df_res = pd.read_csv('results_20220121_RS-mTMA-5_Celltype_Subtype_Group.csv',index_col=0)\n",
    "df_res.dropna(inplace=True) #drop not tumor samples\n",
    "#df_res['leiden_subtype'] =  df_res.leiden_subtype.astype('int') # df_res.leiden_man3.astype('int') # \n",
    "#df_res['DAPI_X'] = df_res.DAPI_X.astype('int')\n",
    "#df_res['DAPI_Y'] = df_res.DAPI_Y.astype('int')\n",
    "ls_marker = df_res.columns[df_res.dtypes=='float64'].tolist()\n",
    "#old 1129df_res['leiden_subtype_group'] = df_res.leiden_subtype.replace({0: 'stroma',1: 'immune',3: 'epithelial',2: 'epithelial'})\n",
    "#olddf_res['leiden_subtype_group'] =  df_res.leiden_subtype.replace({0:'stroma_rich',1:'stroma_rich',2:'stroma_poor'})\n",
    "#d_replace = {0:'imm-str_rich',1:'str_mid',2:'str_poor',3:'str_poor'}\n",
    "#d_replace = {0:'SR_IR',1:'SR_IP',2:'SP',3:'SP'}\n",
    "\n",
    "df_res['leiden_subtype_group'] =  df_res.leiden_subtype#.replace(d_replace)"
   ]
  },
  {
   "cell_type": "code",
   "execution_count": null,
   "id": "5d09d549-18ea-49a1-b3b5-c92e86e12169",
   "metadata": {},
   "outputs": [],
   "source": [
    "#df_res['celltype2'] = df_res.celltype.replace({'immune':'stromal','endothelial':'stromal'})\n",
    "df_res['celltype2'] = df_res.celltype3.replace({'immune':'stromal'})\n",
    "df_res['Group'] = df_res.Group.replace({'stroma_poor':'SP','stroma_rich':'SR'})"
   ]
  },
  {
   "cell_type": "code",
   "execution_count": null,
   "id": "25e563ad-c5c4-4f59-9f2e-923f55b8bbc7",
   "metadata": {},
   "outputs": [],
   "source": [
    "#subtype\n",
    "s_cell = 'celltype2'\n",
    "d_cell = {'celltype':['tumor', 'immune', 'stromal'],\n",
    "         'celltype2':['epithelial', 'stromal']}\n",
    "b_scatterplot = False\n",
    "for s_group in ['Group','leiden_subtype_group',]: #'leiden_subtype',\n",
    "    #for s_celltype in sorted(set(df_res.loc[:,s_cell])):\n",
    "    for s_celltype in d_cell[s_cell]:\n",
    "        if s_celltype == 'endothelial':\n",
    "            continue\n",
    "        df_cell = df_res[df_res.loc[:,s_cell] == s_celltype]\n",
    "        df_mean = df_cell.loc[:,ls_marker + [s_group,'slide_scene']].groupby([s_group,'slide_scene']).mean()\n",
    "        if s_celltype == 'epithelial':\n",
    "            se_myc = df_mean.loc[:,'pMYC']\n",
    "        df_mean['pMYC_tumor'] = se_myc\n",
    "        if b_scatterplot:\n",
    "            for s_marker in ls_marker:\n",
    "                fig, ax = plt.subplots(figsize=(3,3),dpi=200)\n",
    "                sns.scatterplot(x='pMYC_tumor', y=s_marker, data=df_mean.reset_index(),ax=ax,hue= s_group,legend=False) #\n",
    "                r, pvalue = stats.pearsonr(x=df_mean.loc[:,'pMYC_tumor'], y=df_mean.loc[:,s_marker])\n",
    "                ax.set_title(f'{s_marker} vs pMYC')\n",
    "                ax.set_ylabel(f'{s_marker} Intensity in {s_celltype}')\n",
    "                ax.set_xlabel(f'pMYC Intensity in tumor')\n",
    "                if pvalue > 0.05:\n",
    "                    plt.close(fig)\n",
    "                else: \n",
    "                    print(f'{s_marker} in {s_celltype} of {s_cell} by {s_group}')\n",
    "                    ax.set_title(f'{s_marker} vs pMYC\\n r = {r:.2f} \\np = {pvalue:.5f}')\n",
    "                    plt.tight_layout()\n",
    "                    fig.savefig(f'{s_date}/scatterplot_{s_marker}_in_{s_celltype}_of_{s_cell}_by_{s_group}.png')\n",
    "                    plt.close(fig)\n",
    "        else:\n",
    "            for s_marker in ls_marker:\n",
    "                #s_marker = 'aSMA'#'Ki67'#'pMYC' #'CD45' #\n",
    "                df_marker = df_mean.loc[:,s_marker].reset_index()\n",
    "                #test\n",
    "                lls_result = []\n",
    "                for s_test in df_marker.loc[:,s_group].unique():\n",
    "                    ls_result = df_marker.loc[df_marker.loc[:,s_group] == s_test,s_marker].values\n",
    "                    lls_result.append(ls_result)\n",
    "                if len(lls_result)==2:\n",
    "                    try:\n",
    "                        statistic, pvalue = stats.mannwhitneyu(lls_result[0],lls_result[1])\n",
    "                    except:\n",
    "                        pvalue = 1\n",
    "                        continue\n",
    "                elif len(lls_result)==3:\n",
    "                    try:\n",
    "                        statistic, pvalue = stats.kruskal(lls_result[0],lls_result[1],lls_result[2])\n",
    "                    except:\n",
    "                        pvalue = 1\n",
    "                        continue\n",
    "                else:\n",
    "                    pvalue = 1\n",
    "                #plot    \n",
    "                ls_order = ['SR_IR','SP','SR_IP']\n",
    "                if s_group == 'Group':\n",
    "                    ls_order = ['SR','SP']\n",
    "                fig,ax=plt.subplots(figsize=(2.5,2.2),dpi=300)\n",
    "                sns.boxplot(data=df_marker,x=s_group,y=s_marker,ax=ax,fliersize=0,order=ls_order)\n",
    "                sns.stripplot(data=df_marker,x=s_group,y=s_marker,ax=ax,palette='dark',size=3,order=ls_order)\n",
    "                ax.set_ylabel(f'{s_marker} in {s_celltype}')\n",
    "                ax.set_title(f'{s_marker}\\n (p = {pvalue:.3f})',fontsize=12,horizontalalignment='center')\n",
    "                #statistic, pvalue = stats.mannwhitneyu(lls_result[0],lls_result[1])\n",
    "                plt.tight_layout()\n",
    "                ##fig.savefig(f'{s_date}/boxplot_{s_cell}_{s_celltype}_{s_group}_{s_marker}.png')\n",
    "                #break\n",
    "                if pvalue > 0.05:\n",
    "                    plt.close(fig)\n",
    "                else:\n",
    "                    fig.savefig(f'{s_date}/boxplot_{s_cell}_{s_celltype}_{s_group}_{s_marker}.png')\n",
    "                    print(f'{s_marker} in {s_celltype} by {s_group}') \n",
    "                    plt.close(fig)\n",
    "                #break\n",
    "            #break\n",
    "        \n",
    "    break"
   ]
  },
  {
   "cell_type": "code",
   "execution_count": null,
   "id": "4d75248e-6700-4a4f-9306-fa6f76357ec6",
   "metadata": {},
   "outputs": [],
   "source": [
    "fig.savefig(f'{s_date}/boxplot_{s_cell}_{s_celltype}_{s_group}_{s_marker}.png')"
   ]
  },
  {
   "cell_type": "code",
   "execution_count": null,
   "id": "efddc8f4-bc9f-476f-9da4-453dc7af9eda",
   "metadata": {
    "tags": []
   },
   "outputs": [],
   "source": [
    "#subtype\n",
    "s_cell = 'celltype2'\n",
    "d_cell = {'celltype':['tumor', 'immune', 'stromal'],\n",
    "         'celltype2':['epithelial', 'stromal']}\n",
    "b_scatterplot = False\n",
    "for s_group in ['leiden_subtype_group','Group',]: #'leiden_subtype',\n",
    "    #for s_celltype in sorted(set(df_res.loc[:,s_cell])):\n",
    "    for s_celltype in d_cell[s_cell]:\n",
    "        if s_celltype == 'endothelial':\n",
    "            continue\n",
    "        df_cell = df_res[df_res.loc[:,s_cell] == s_celltype]\n",
    "        df_mean = df_cell.loc[:,ls_marker + [s_group,'slide_scene']].groupby([s_group,'slide_scene']).mean()\n",
    "        if s_celltype == 'epithelial':\n",
    "            se_myc = df_mean.loc[:,'pMYC']\n",
    "        df_mean['pMYC_tumor'] = se_myc\n",
    "        df_mean = df_mean.drop('SR_IP')\n",
    "        if b_scatterplot:\n",
    "            for s_marker in ls_marker:\n",
    "                fig, ax = plt.subplots(figsize=(3,3),dpi=200)\n",
    "                sns.scatterplot(x='pMYC_tumor', y=s_marker, data=df_mean.reset_index(),ax=ax,hue= s_group,legend=False) #\n",
    "                r, pvalue = stats.pearsonr(x=df_mean.loc[:,'pMYC_tumor'], y=df_mean.loc[:,s_marker])\n",
    "                ax.set_title(f'{s_marker} vs pMYC')\n",
    "                ax.set_ylabel(f'{s_marker} Intensity in {s_celltype}')\n",
    "                ax.set_xlabel(f'pMYC Intensity in tumor')\n",
    "                if pvalue > 0.05:\n",
    "                    plt.close(fig)\n",
    "                else: \n",
    "                    print(f'{s_marker} in {s_celltype} of {s_cell} by {s_group}')\n",
    "                    ax.set_title(f'{s_marker} vs pMYC\\n r = {r:.2f} \\np = {pvalue:.5f}')\n",
    "                    plt.tight_layout()\n",
    "                    fig.savefig(f'{s_date}/scatterplot_{s_marker}_in_{s_celltype}_of_{s_cell}_by_{s_group}.png')\n",
    "                    plt.close(fig)\n",
    "        else:\n",
    "            for s_marker in ls_marker:\n",
    "                s_marker = 'EpCAM'#'S100A6'#'Vim' #'aSMA'#'Ki67'#'pMYC' #'CD45' #\n",
    "                df_marker = df_mean.loc[:,s_marker].reset_index()\n",
    "                #test\n",
    "                lls_result = []\n",
    "                for s_test in df_marker.loc[:,s_group].unique():\n",
    "                    ls_result = df_marker.loc[df_marker.loc[:,s_group] == s_test,s_marker].values\n",
    "                    lls_result.append(ls_result)\n",
    "                if len(lls_result)==2:\n",
    "                    try:\n",
    "                        statistic, pvalue = stats.mannwhitneyu(lls_result[0],lls_result[1])\n",
    "                    except:\n",
    "                        pvalue = 1\n",
    "                        continue\n",
    "                elif len(lls_result)==3:\n",
    "                    try:\n",
    "                        statistic, pvalue = stats.kruskal(lls_result[0],lls_result[1],lls_result[2])\n",
    "                    except:\n",
    "                        pvalue = 1\n",
    "                        continue\n",
    "                else:\n",
    "                    pvalue = 1\n",
    "                #plot    \n",
    "                fig,ax=plt.subplots(figsize=(2.5,2.2),dpi=300)\n",
    "                sns.boxplot(data=df_marker,x=s_group,y=s_marker,ax=ax,fliersize=0,order=['SR_IR','SP'])\n",
    "                sns.stripplot(data=df_marker,x=s_group,y=s_marker,ax=ax,palette='dark',size=3,order=['SR_IR','SP'])\n",
    "                ax.set_ylabel(f'{s_marker} in {s_celltype}')\n",
    "                ax.set_title(f'{s_marker}\\n (p = {pvalue:.3f})',fontsize=12,horizontalalignment='center')\n",
    "                #statistic, pvalue = stats.mannwhitneyu(lls_result[0],lls_result[1])\n",
    "                plt.tight_layout()\n",
    "                ##fig.savefig(f'{s_date}/boxplot_{s_cell}_{s_celltype}_{s_group}_{s_marker}.png')\n",
    "                break\n",
    "                if pvalue > 0.05:\n",
    "                    plt.close(fig)\n",
    "                else:\n",
    "                    fig.savefig(f'{s_date}/boxplot_{s_cell}_{s_celltype}_{s_group}_{s_marker}_two.png')\n",
    "                    print(f'{s_marker} in {s_celltype} by {s_group}') \n",
    "                    plt.close(fig)\n",
    "                #break\n",
    "            break\n",
    "        \n",
    "    break"
   ]
  },
  {
   "cell_type": "code",
   "execution_count": null,
   "id": "9871586d-f70a-4598-b352-447cc8547c82",
   "metadata": {},
   "outputs": [],
   "source": [
    "\n",
    "#df_marker.sort_values('Vim') #there are several Vim+ Sox9 pos SR IR tissues #D08 is cool looking\n",
    "#df_marker.sort_values('aSMA')\n",
    "#df_marker.sort_values(s_marker)"
   ]
  },
  {
   "cell_type": "code",
   "execution_count": null,
   "id": "4d5300f6-fc8a-4e11-aae3-e8b7afd52c9b",
   "metadata": {},
   "outputs": [],
   "source": [
    "#df_marker.sort_values(by='pMYC',ascending=False).to_csv('MYC_expression_for_Zinab.csv')"
   ]
  },
  {
   "cell_type": "markdown",
   "id": "66f8de80-1af2-45eb-ab98-c474809dc0fb",
   "metadata": {},
   "source": [
    "## load  results MIBI (human) <a name=\"resultsmibi\"></a>\n",
    "\n",
    "celltype, subtype and group\n",
    "\n",
    "- subtype versus expression\n",
    "\n",
    "\n",
    "\n",
    "\n",
    "[contents](#contents)"
   ]
  },
  {
   "cell_type": "code",
   "execution_count": null,
   "id": "4b18193a-5bce-4aa7-bada-5d970448077a",
   "metadata": {},
   "outputs": [],
   "source": [
    "d_color = {'SR_IR': (0.12156862745098039, 0.4666666666666667, 0.7058823529411765), #blue\n",
    " 'SP': (1.0, 0.4980392156862745, 0.054901960784313725), #orange\n",
    " 'SR_IP': (0.17254901960784313, 0.6274509803921569, 0.17254901960784313)} #green\n",
    "#####d_replace = {'0':'SR_IR','1':'SR_IP','2':'SP','3':'SP'}"
   ]
  },
  {
   "cell_type": "code",
   "execution_count": null,
   "id": "423a692e-6550-4d71-9d7e-c2a634cc9394",
   "metadata": {},
   "outputs": [],
   "source": [
    "df_mibi = pd.read_csv(f'{rootdir}/results_celltype3_leiden0.1_MIBI.csv',index_col=0)"
   ]
  },
  {
   "cell_type": "code",
   "execution_count": null,
   "id": "e7af838f-935e-431c-b248-86e0f2ac5877",
   "metadata": {},
   "outputs": [],
   "source": [
    "df_res = pd.read_csv('results_20211109_MIBI_Celltype_Subtype_Group.csv',index_col=0)\n",
    "df_res.dropna(inplace=True) #drop no survival info\n",
    "df_res['leiden_subtype'] = df_res.leiden_subtype.astype('int')\n",
    "df_res['DAPI_X'] = df_res.DAPI_X.astype('int')\n",
    "df_res['DAPI_Y'] = df_res.DAPI_Y.astype('int')\n",
    "ls_marker = df_res.columns[df_res.dtypes=='float64'].tolist()\n",
    "df_res['leiden_subtype_group'] =  df_res.leiden_subtype.replace({0:'stroma_rich',2:'stroma_rich',1:'stroma_poor'})\n",
    "df_res['leiden_subtype'] = df_res.leiden_subtype.replace({0: 'SR_IR', 2: 'SR_IP', 1: 'SP'})#{0:'imm_rich',2:'str_rich',1:'epi_rich'})"
   ]
  },
  {
   "cell_type": "code",
   "execution_count": null,
   "id": "a3ac4059-1d93-49df-9316-1f7e27f51975",
   "metadata": {},
   "outputs": [],
   "source": [
    "df_res.head()"
   ]
  },
  {
   "cell_type": "code",
   "execution_count": null,
   "id": "21cdc829-cde0-44b4-b627-944b58342e7e",
   "metadata": {},
   "outputs": [],
   "source": [
    "df_res['slide'] = [item.split('_')[0] for item in df_res.index]"
   ]
  },
  {
   "cell_type": "code",
   "execution_count": null,
   "id": "0d42a65a-39f2-4628-a9f0-d21b639c2322",
   "metadata": {},
   "outputs": [],
   "source": [
    "#df_res['leiden_subtype'] = df_res.slide.map(dict(zip(df_mibi.index.astype('str'),df_mibi.leiden))).replace(d_replace_mibi)"
   ]
  },
  {
   "cell_type": "markdown",
   "id": "fd0f54c7-bc2c-4c3e-bce2-7648f8d1e6f9",
   "metadata": {},
   "source": [
    "Mouse 0: imm-str-rich\n",
    "1: epithelial-med\n",
    "2: epithelial-rich\n",
    "MIBI 0: imm-rich\n",
    "1: epithelial rich\n",
    "2: stromal rich\n"
   ]
  },
  {
   "cell_type": "code",
   "execution_count": null,
   "id": "600e59e2-b961-4409-9e54-f27140a04ab9",
   "metadata": {},
   "outputs": [],
   "source": [
    "df_res['celltype2'] = df_res.gated_celltype.replace({'immune':'stromal','endothelial':'stromal'})"
   ]
  },
  {
   "cell_type": "code",
   "execution_count": null,
   "id": "fc11dac3-9077-4494-9447-65372dae6845",
   "metadata": {},
   "outputs": [],
   "source": [
    "#subtype\n",
    "'''s_cell = 'celltype2'#'gated_celltype'\n",
    "for s_celltype in sorted(set(df_res.loc[:,s_cell])):\n",
    "    #s_celltype = 'epithelial'\n",
    "    if s_celltype == 'endothelial':\n",
    "        continue\n",
    "    df_cell = df_res[df_res.loc[:,s_cell] == s_celltype]\n",
    "    for s_group in ['leiden_subtype']: #'leiden_subtype_group',\n",
    "        df_mean = df_cell.loc[:,ls_marker + [s_group,'slide']].groupby([s_group,'slide']).mean()\n",
    "        for s_marker in ls_marker:\n",
    "            #s_marker = 'SMA'\n",
    "            df_marker = df_mean.loc[:,s_marker].reset_index()\n",
    "            #test\n",
    "            lls_result = []\n",
    "            for s_test in df_marker.loc[:,s_group].unique():\n",
    "                ls_result = df_marker.loc[df_marker.loc[:,s_group] == s_test,s_marker].values\n",
    "                lls_result.append(ls_result)\n",
    "            if len(lls_result)==2:\n",
    "                try:\n",
    "                    statistic, pvalue = stats.mannwhitneyu(lls_result[0],lls_result[1])\n",
    "                except:\n",
    "                    pvalue = 1\n",
    "                    continue\n",
    "            elif len(lls_result)==3:\n",
    "                try:\n",
    "                    statistic, pvalue = stats.kruskal(lls_result[0],lls_result[1],lls_result[2])\n",
    "                except:\n",
    "                    pvalue = 1\n",
    "                    continue\n",
    "            else:\n",
    "                pvalue = 1\n",
    "            #plot    \n",
    "            fig,ax=plt.subplots(figsize=(2.5,2.2),dpi=200)\n",
    "            sns.boxplot(data=df_marker,x=s_group,y=s_marker,ax=ax,fliersize=0)\n",
    "            sns.stripplot(data=df_marker,x=s_group,y=s_marker,ax=ax,palette='dark',size=3)\n",
    "            ax.set_ylabel(f'{s_marker} in {s_celltype}')\n",
    "            ax.set_title(f'{s_marker}\\n (p = {pvalue:.3f})',fontsize=12,horizontalalignment='center')\n",
    "            statistic, pvalue = stats.mannwhitneyu(lls_result[0],lls_result[1])\n",
    "            plt.tight_layout()\n",
    "            #break\n",
    "            if pvalue > 0.05:\n",
    "                plt.close(fig)\n",
    "            else:\n",
    "                fig.savefig(f'{s_date}/boxplot_MIBI_{s_cell}_{s_celltype}_{s_group}_{s_marker}.png')\n",
    "                print(f'{s_marker} in {s_celltype} by {s_group}') \n",
    "                plt.close(fig)\n",
    "            #break\n",
    "        #break\n",
    "    #break'''"
   ]
  },
  {
   "cell_type": "markdown",
   "id": "f9f5f8e2-77de-4c60-aa8f-8c45f94b59f0",
   "metadata": {},
   "source": [
    "## mibi boxplots"
   ]
  },
  {
   "cell_type": "code",
   "execution_count": null,
   "id": "b3b31850-2753-41f1-8acc-3eeb70d6c7fc",
   "metadata": {},
   "outputs": [],
   "source": [
    "hrootdir = '/mnt/c/Users/engje/Documents/Data/20211112_AACR'\n",
    "s_sample = '20211109_MIBI'\n",
    "resolution = 0.6\n",
    "df_mib = pd.read_csv(f'{hrootdir}/data/results_{s_sample}_leiden{resolution}_gated_celltype.csv',index_col=0)\n",
    "df_mib['slide_scene'] = [item.split('_cell')[0] for item in df_mib.index]\n",
    "df_mib['slide'] = [item.split('_')[0] for item in df_mib.index]\n",
    "df_mib['slide'] = df_mib.slide.replace({'t1':'1'})\n",
    "df_mib['celltype3'] = df_mib.gated_celltype.replace({'endothelial':'stromal'})\n",
    "#df_mib['celltype3'] = df_mib.celltype3.replace({'immune':'stromal'})\n",
    "#better\n",
    "df_mib.groupby('celltype3').CD31.count()/len(df_mib)"
   ]
  },
  {
   "cell_type": "code",
   "execution_count": null,
   "id": "6afce058-c25c-4afc-b49d-c3a5518949db",
   "metadata": {},
   "outputs": [],
   "source": [
    "s_dataset = 'MIBI'\n",
    "resolution = 0.1\n",
    "s_type = 'celltype3'\n",
    "s_out = f'/mnt/c/Users/engje/Documents/Data/20211112_AACR/data/results_{s_type}_leiden{resolution}_{s_dataset}.csv'\n",
    "df_p = pd.read_csv(s_out)\n",
    "df_p['leiden'] = df_p.leiden.astype('str')\n",
    "d_name = {'0':'stroma_rich','2':'stroma_rich','1':'stroma_poor'}\n",
    "df_p['subtype'] = df_p.leiden.replace(d_name)\n",
    "d_named = {'1':'epithelial_rich','2':'stroma_rich','0':'immune_rich'}\n",
    "df_p['subtype3'] = df_p.leiden.replace(d_named)\n",
    "df_p.slide =df_p.slide.astype('str')\n",
    "df_p['leiden_subtype'] = df_p.leiden.replace({'0': 'SR_IR', '2': 'SR_IP', '1': 'SP'})\n",
    "# add leiden subtype\n",
    "df_mib['subtype'] = df_mib.slide.map(dict(zip(df_p.slide,df_p.subtype)))\n",
    "df_mib['subtype3'] = df_mib.slide.map(dict(zip(df_p.slide,df_p.subtype3)))\n",
    "df_mib['leiden_subtype'] = df_mib.slide.map(dict(zip(df_p.slide,df_p.leiden_subtype)))\n",
    "df_mib['celltype2'] = df_mib.celltype3.replace({'immune':'stromal'})\n",
    "df_res = df_mib\n"
   ]
  },
  {
   "cell_type": "code",
   "execution_count": null,
   "id": "3e543a8f-503f-4ec5-9086-21a9bcf18fba",
   "metadata": {},
   "outputs": [],
   "source": [
    "%matplotlib inline"
   ]
  },
  {
   "cell_type": "code",
   "execution_count": null,
   "id": "95a983ea-b3d6-4f91-9637-657b51e4c4a6",
   "metadata": {},
   "outputs": [],
   "source": [
    "#expression\n",
    "ls_marker = ['Beta_catenin', 'CD11b', 'CD11c', 'CD138', 'CD16', 'CD20', 'CD209',\n",
    "       'CD3', 'CD31', 'CD4', 'CD45', 'CD45RO', 'CD56', 'CD63', 'CD68', 'CD8',\n",
    "       'dsDNA', 'EGFR', 'FoxP3', 'HLA_DR', 'IDO', 'Keratin17', 'Keratin6',\n",
    "       'Ki67', 'Lag3', 'MPO', 'p53', 'Pan_Keratin', 'PD_L1', 'PD1', 'SMA',\n",
    "       'Vimentin']\n",
    "len(ls_marker)\n",
    "s_cell = 'celltype2'\n",
    "for s_group in ['leiden_subtype']:\n",
    "    print(s_group)\n",
    "    for s_celltype in sorted(set(df_res.loc[:,s_cell])):\n",
    "        print(s_celltype)\n",
    "        if s_celltype == 'endothelial':\n",
    "            continue\n",
    "        df_cell = df_res[df_res.loc[:,s_cell] == s_celltype]\n",
    "        df_mean = df_cell.loc[:,ls_marker + [s_group,'slide']].groupby([s_group,'slide']).mean()\n",
    "\n",
    "        for s_marker in ls_marker:\n",
    "            s_marker = 'SMA'#'Pan_Keratin'#'Keratin6'#'Beta_catenin'#'PD1'#'PD_L1'#'SMA'#'Vimentin'#'Ki67'#\n",
    "            df_marker = df_mean.loc[:,s_marker].reset_index()\n",
    "            #test\n",
    "            lls_result = []\n",
    "            for s_test in df_marker.loc[:,s_group].unique():\n",
    "                ls_result = df_marker.loc[df_marker.loc[:,s_group] == s_test,s_marker].values\n",
    "                lls_result.append(ls_result)\n",
    "            if len(lls_result)==2:\n",
    "                try:\n",
    "                    statistic, pvalue = stats.mannwhitneyu(lls_result[0],lls_result[1])\n",
    "                except:\n",
    "                    pvalue = 1\n",
    "                    continue\n",
    "            elif len(lls_result)==3:\n",
    "                try:\n",
    "                    statistic, pvalue = stats.kruskal(lls_result[0],lls_result[1],lls_result[2])\n",
    "                except:\n",
    "                    pvalue = 1\n",
    "                    continue\n",
    "            elif len(lls_result)==4:\n",
    "                try:\n",
    "                    statistic, pvalue = stats.kruskal(lls_result[0],lls_result[1],lls_result[2],lls_result[3])\n",
    "                except:\n",
    "                    pvalue = 1\n",
    "                    continue\n",
    "            else:\n",
    "                pvalue = 1\n",
    "            #plot    \n",
    "            fig,ax=plt.subplots(figsize=(2.5,2.2),dpi=300)\n",
    "            sns.boxplot(data=df_marker,x=s_group,y=s_marker,ax=ax,fliersize=0,order=['SR_IR','SP','SR_IP'])\n",
    "            sns.stripplot(data=df_marker,x=s_group,y=s_marker,ax=ax,palette='dark',size=3,order=['SR_IR','SP','SR_IP'])\n",
    "            ax.set_ylabel(f'{s_marker} in {s_celltype}')\n",
    "            ax.set_title(f'{s_marker}\\n (p = {pvalue:.3f})',fontsize=12,horizontalalignment='center')\n",
    "            labels = [item.get_text() for item in ax.get_xticklabels()]\n",
    "            if len(lls_result)==3:\n",
    "                ax.set_xticklabels([item.replace('_rich',f'') for item in labels])\n",
    "                #ax.set_xlabel('(-rich)')\n",
    "            plt.tight_layout()\n",
    "            #fig.savefig(f'{rootdir}/{s_date}/boxplot_MIBI_{s_cell}_{s_celltype}_{s_group}_{s_marker}.png')\n",
    "            break\n",
    "            if pvalue > 0.05:\n",
    "                plt.close(fig)\n",
    "            else:\n",
    "                fig.savefig(f'{rootdir}/MIBI/boxplot_MIBI_{s_cell}_{s_celltype}_{s_group}_{s_marker}.png')\n",
    "                print(f'{s_marker} in {s_celltype} by {s_group}') \n",
    "                #plt.close(fig)\n",
    "                break\n",
    "        #break\n",
    "    break\n",
    "    "
   ]
  },
  {
   "cell_type": "code",
   "execution_count": null,
   "id": "4a3e9de6-df20-4a61-a4e0-5f2e1565b540",
   "metadata": {},
   "outputs": [],
   "source": [
    "fig.savefig(f'{rootdir}/MIBI/boxplot_MIBI_{s_cell}_{s_celltype}_{s_group}_{s_marker}.png')"
   ]
  },
  {
   "cell_type": "code",
   "execution_count": null,
   "id": "d46c6e86-c332-4f42-8099-ac7a133e9b05",
   "metadata": {},
   "outputs": [],
   "source": [
    "#expression\n",
    "ls_marker = ['Beta_catenin', 'CD11b', 'CD11c', 'CD138', 'CD16', 'CD20', 'CD209',\n",
    "       'CD3', 'CD31', 'CD4', 'CD45', 'CD45RO', 'CD56', 'CD63', 'CD68', 'CD8',\n",
    "       'dsDNA', 'EGFR', 'FoxP3', 'HLA_DR', 'IDO', 'Keratin17', 'Keratin6',\n",
    "       'Ki67', 'Lag3', 'MPO', 'p53', 'Pan_Keratin', 'PD_L1', 'PD1', 'SMA',\n",
    "       'Vimentin']\n",
    "len(ls_marker)\n",
    "s_cell = 'celltype2'\n",
    "for s_group in ['leiden_subtype']:\n",
    "    print(s_group)\n",
    "    for s_celltype in sorted(set(df_res.loc[:,s_cell])):\n",
    "        print(s_celltype)\n",
    "        if s_celltype == 'endothelial':\n",
    "            continue\n",
    "        df_cell = df_res[df_res.loc[:,s_cell] == s_celltype]\n",
    "        df_mean = df_cell.loc[:,ls_marker + [s_group,'slide']].groupby([s_group,'slide']).mean()\n",
    "        df_mean = df_mean.drop('SR_IP')\n",
    "        for s_marker in ls_marker:\n",
    "            s_marker = 'Vimentin'#'Beta_catenin'#'Keratin6'#'Pan_Keratin'#'PD1'#'PD_L1'#'SMA'#'Ki67'#\n",
    "            df_marker = df_mean.loc[:,s_marker].reset_index()\n",
    "            #test\n",
    "            lls_result = []\n",
    "            for s_test in df_marker.loc[:,s_group].unique():\n",
    "                ls_result = df_marker.loc[df_marker.loc[:,s_group] == s_test,s_marker].values\n",
    "                lls_result.append(ls_result)\n",
    "            if len(lls_result)==2:\n",
    "                try:\n",
    "                    statistic, pvalue = stats.mannwhitneyu(lls_result[0],lls_result[1])\n",
    "                except:\n",
    "                    pvalue = 1\n",
    "                    continue\n",
    "            elif len(lls_result)==3:\n",
    "                try:\n",
    "                    statistic, pvalue = stats.kruskal(lls_result[0],lls_result[1],lls_result[2])\n",
    "                except:\n",
    "                    pvalue = 1\n",
    "                    continue\n",
    "            elif len(lls_result)==4:\n",
    "                try:\n",
    "                    statistic, pvalue = stats.kruskal(lls_result[0],lls_result[1],lls_result[2],lls_result[3])\n",
    "                except:\n",
    "                    pvalue = 1\n",
    "                    continue\n",
    "            else:\n",
    "                pvalue = 1\n",
    "            #plot    \n",
    "            fig,ax=plt.subplots(figsize=(2.5,2.2),dpi=300)\n",
    "            sns.boxplot(data=df_marker,x=s_group,y=s_marker,ax=ax,fliersize=0,order=['SR_IR','SP'])\n",
    "            sns.stripplot(data=df_marker,x=s_group,y=s_marker,ax=ax,palette='dark',size=3,order=['SR_IR','SP'])\n",
    "            ax.set_ylabel(f'{s_marker} in {s_celltype}')\n",
    "            ax.set_title(f'{s_marker}\\n (p = {pvalue:.3f})',fontsize=12,horizontalalignment='center')\n",
    "            labels = [item.get_text() for item in ax.get_xticklabels()]\n",
    "            if len(lls_result)==3:\n",
    "                ax.set_xticklabels([item.replace('_rich',f'') for item in labels])\n",
    "                #ax.set_xlabel('(-rich)')\n",
    "            plt.tight_layout()\n",
    "            #fig.savefig(f'{rootdir}/{s_date}/boxplot_MIBI_{s_cell}_{s_celltype}_{s_group}_{s_marker}.png')\n",
    "            #break\n",
    "            if pvalue > 0.05:\n",
    "                plt.close(fig)\n",
    "            else:\n",
    "                fig.savefig(f'{rootdir}/MIBI/boxplot_MIBI_{s_cell}_{s_celltype}_{s_group}_{s_marker}_two.png')\n",
    "                print(f'{s_marker} in {s_celltype} by {s_group}') \n",
    "                #plt.close(fig)\n",
    "                break\n",
    "        break\n",
    "    break\n",
    "    "
   ]
  },
  {
   "cell_type": "code",
   "execution_count": null,
   "id": "368df181-e458-4e7e-b872-b17ad5683fcc",
   "metadata": {},
   "outputs": [],
   "source": [
    "#df_marker.sort_values(by='Beta_catenin') #7 vs 17\n",
    "df_marker.sort_values(by='Vimentin') #7 vs 29. there are examples of vim coexpressing with beta catenin and also just lateral bleed through (eg 40)\n",
    "#point 29, high levels of vim and aSMA"
   ]
  },
  {
   "cell_type": "code",
   "execution_count": null,
   "id": "fe4eed10-f251-490f-a4be-23a50507057e",
   "metadata": {},
   "outputs": [],
   "source": [
    "fig.savefig(f'{rootdir}/MIBI/boxplot_MIBI_{s_cell}_{s_celltype}_{s_group}_{s_marker}.png')"
   ]
  },
  {
   "cell_type": "markdown",
   "id": "ece1db5a-e20d-409d-89f7-59e9f1babd44",
   "metadata": {},
   "source": [
    "# mibi cell types <a name=\"mibiann\"></a>\n",
    "\n",
    "clustering results\n",
    "\n",
    "\n",
    "\n",
    "\n",
    "[contents](#contents)"
   ]
  },
  {
   "cell_type": "code",
   "execution_count": null,
   "id": "60fdcd18-366f-455e-aafd-67c0242ec312",
   "metadata": {},
   "outputs": [],
   "source": [
    "s_sample = '20211109_MIBI'"
   ]
  },
  {
   "cell_type": "code",
   "execution_count": null,
   "id": "0950d729-dbd7-42b7-ae0d-6fa522429b8c",
   "metadata": {},
   "outputs": [],
   "source": [
    "#colors\n",
    "se_annot = df_res.loc[:,['leiden','gated_celltype']].groupby('leiden').agg(pd.Series.mode)\n",
    "d_annot = dict(zip(df_res.leiden.astype('str'),df_res.leiden_celltype))\n",
    "d_color_ct = {'immune':'C0', 'epithelial':'C1','stromal':'C2'}\n",
    "row_colors = df_plot.index.map(se_annot.to_dict()['gated_celltype']).map(d_color_ct)\n",
    "ls_drop_index= ['DAPI_X','DAPI_Y']\n",
    "df_plot = df_res.groupby('leiden').mean().drop(ls_drop_index,axis=1).dropna()\n",
    "df_plot.index.name = f'leiden'\n",
    "g = sns.clustermap(df_plot,z_score=1,figsize=(8,9),cmap='viridis',method='ward',cbar_pos=(.01, .91, .05, .15),\n",
    "                   vmin=-2,vmax=2,dendrogram_ratio=0.1,row_colors=row_colors)\n",
    "g.ax_heatmap.set_xticklabels(g.ax_heatmap.get_xmajorticklabels(), fontsize = 14)\n",
    "g.ax_heatmap.set_yticklabels(g.ax_heatmap.get_ymajorticklabels(), fontsize = 14,rotation=0)\n",
    "for label in d_color_ct.keys():\n",
    "    g.ax_row_dendrogram.bar(0, 0, color=d_color_ct[label],\n",
    "                            label=label, linewidth=0)\n",
    "g.ax_row_dendrogram.legend(loc=\"right\", ncol=1,fontsize=12)\n",
    "g.savefig(f'{rootdir}/MIBI/{s_sample}_clustermap_leiden_celltypes.png',dpi=300)\n",
    "marker_genes = df_plot.iloc[:,g.dendrogram_col.reordered_ind].columns.tolist()\n",
    "categories_order = df_plot.iloc[g.dendrogram_row.reordered_ind,:].index.tolist()"
   ]
  },
  {
   "cell_type": "code",
   "execution_count": null,
   "id": "bd811136-8333-45aa-b2f8-68cef722a036",
   "metadata": {},
   "outputs": [],
   "source": [
    "df_res.head()\n",
    "from mplex_image import analyze\n",
    "df_pos = analyze.celltype_to_bool(df_res,'gated_celltype')\n",
    "df_pos.columns = [str(item) for item in df_pos.columns]\n",
    "\n",
    "sns.palplot(mpl.cm.Paired.colors)"
   ]
  },
  {
   "cell_type": "code",
   "execution_count": null,
   "id": "e03ce5f7-50d0-4b99-b3ee-de0e7efce734",
   "metadata": {},
   "outputs": [],
   "source": [
    "s_slide = '7'\n",
    "ls_com = df_res[df_res.slide_scene==s_slide].groupby('leiden').count().CD31.sort_values(ascending=False)[0:9].index.to_list()\n",
    "df_res['slide_scene'] = df_res.slide.astype('str')\n",
    "ls_colors = [mpl.cm.Paired.colors[0],mpl.cm.Paired.colors[8],\n",
    "           mpl.cm.Paired.colors[10],mpl.cm.Paired.colors[9],\n",
    "           mpl.cm.Paired.colors[3],mpl.cm.Paired.colors[1],\n",
    "           mpl.cm.Paired.colors[5],mpl.cm.Paired.colors[7],\n",
    "           mpl.cm.Paired.colors[4]]\n",
    "d_color = dict(zip(ls_com,ls_colors))\n",
    "d_color = {'endothelial':mpl.cm.Paired.colors[1],\n",
    "           'epithelial':'orange',\n",
    "           'immune':'magenta',\n",
    "           'stromal':'green'}\n",
    "ls_com = d_color.keys()\n",
    "\n",
    "#plot all groups spatially - leiden \n",
    "ls_out = []\n",
    "\n",
    "#for s_slide in sorted(set(df_p.slide_scene)):\n",
    "for s_slides in ['RS-mTMA-5_sceneB08','RS-mTMA-5_sceneI03','RS-mTMA-5_sceneH11','RS-mTMA-5_sceneA05']:\n",
    "    fig,ax = plt.subplots(figsize=(6,3.5),dpi=300)\n",
    "    #plot negative cells\n",
    "    df_scene = df_res[df_res.slide_scene==s_slide]\n",
    "    ax.scatter(data=df_scene,x='DAPI_X',y='DAPI_Y',color='silver',s=.5,label=f'')\n",
    "    #for idxs, s_color_int in enumerate(range(len(df_pos.columns))):\n",
    "    for idxs, s_color in enumerate(ls_com): \n",
    "        s_color = str(s_color)\n",
    "        if len(df_res[(df_res.slide_scene==s_slide) & (df_pos.loc[:,s_color])])>=10:\n",
    "            #plot positive cells\n",
    "            ax.scatter(data=df_res[(df_res.slide_scene==s_slide) & (df_pos.loc[:,s_color])],x='DAPI_X',y='DAPI_Y',\n",
    "                       label=s_color,\n",
    "                       s=.5,color=d_color[s_color])\n",
    "        else:\n",
    "            ls_out.append(s_color)\n",
    "    ax.set_title(f\"{s_slide}\", fontsize=16)\n",
    "    ax.axis('equal')\n",
    "    ax.set_ylim(ax.get_ylim()[::-1])\n",
    "    ax.get_xaxis().set_ticks([])\n",
    "    ax.get_yaxis().set_ticks([])\n",
    "    for spine in ax.spines.values():\n",
    "        spine.set_visible(False)\n",
    "    plt.tight_layout()\n",
    "    plt.legend(markerscale=10,framealpha=.5,bbox_to_anchor=(.75,.8),fontsize=8) \n",
    "    fig.savefig(f'{rootdir}/SpatialPlots/MIBI_{s_slide}_leiden_scatterplot.png')\n",
    "    break"
   ]
  },
  {
   "cell_type": "markdown",
   "id": "fb2190ba-2def-404e-a79b-b2fa910ec060",
   "metadata": {},
   "source": [
    "## mibi subtyping\n",
    "\n",
    "match to AACR"
   ]
  },
  {
   "cell_type": "code",
   "execution_count": null,
   "id": "e59c5792-5703-41e0-9e32-10ba68af2dbd",
   "metadata": {},
   "outputs": [],
   "source": [
    "#just use clustering cell types\n",
    "#my MIBI celltypes\n",
    "s_sample = '20211109_MIBI'\n",
    "resolution = 0.6\n",
    "df_mib = pd.read_csv(f'results_{s_sample}_leiden{resolution}_gated_celltype.csv',index_col=0)\n",
    "df_mib['slide_scene'] = [item.split('_cell')[0] for item in df_mib.index]\n",
    "df_mib['slide'] = [item.split('_')[0] for item in df_mib.index]\n",
    "df_mib['slide'] = df_mib.slide.replace({'t1':'1'})\n",
    "df_mib['celltype3'] = df_mib.gated_celltype.replace({'endothelial':'stromal'})\n",
    "#df_mib['celltype3'] = df_mib.celltype3.replace({'immune':'stromal'})\n",
    "#better\n",
    "df_mib.groupby('celltype3').CD31.count()/len(df_mib)"
   ]
  },
  {
   "cell_type": "code",
   "execution_count": null,
   "id": "1b58fe8e-4fbb-4052-8144-05482031b4fd",
   "metadata": {},
   "outputs": [],
   "source": [
    "#MIBI\n",
    "s_dataset = 'MIBI'\n",
    "s_type = 'celltype3'\n",
    "df = df_mib.loc[:,['CD31',s_type,'slide']].groupby([s_type,'slide']).CD31.count()/df_mib.loc[:,['CD31','slide']].groupby(['slide']).CD31.count()\n",
    "df_prop = df.unstack().T.fillna(0)\n",
    "ls_col = df_prop.columns.tolist()\n",
    "adata = sc.AnnData(df_prop)\n",
    "adata.raw = adata\n",
    "#reduce dimensionality\n",
    "sc.tl.pca(adata, svd_solver='auto')\n",
    "#umap\n",
    "for n_neighbors in [5]: #5\n",
    "    results_file = f'{rootdir}/{s_date}/{s_sample}_{n_neighbors}neighbors_{len(ls_col)}markers_{s_type}_{s_dataset}.h5ad'\n",
    "    if not os.path.exists(results_file):\n",
    "        print('calc umap')\n",
    "        # calculate neighbors \n",
    "        sc.pp.neighbors(adata, n_neighbors=n_neighbors) #, method='rapids'\n",
    "        sc.tl.umap(adata)\n",
    "    else:\n",
    "        print('loading umap')\n",
    "        adata = sc.read_h5ad(results_file)\n",
    "    #color by markers\n",
    "    \n",
    "    figname = f\"Umap_markers_{n_neighbors}neighbors_{len(ls_col)}markers_{s_type}_MIBI.png\"\n",
    "    title=figname.split('.png')[0].replace('_',' ')\n",
    "    sc.pl.umap(adata, color=ls_col,vmin='p1.5',vmax='p99.5',ncols=4,save=figname,size=250)\n",
    "    #survival\n",
    "    #save results\n",
    "    if not os.path.exists(results_file):\n",
    "        adata.write(results_file)\n",
    "    \n",
    "    break"
   ]
  },
  {
   "cell_type": "code",
   "execution_count": null,
   "id": "1eaf6179-4564-45ba-853e-f8232b96d199",
   "metadata": {},
   "outputs": [],
   "source": [
    "for resolution in [0.1]: #0.2\n",
    "    results_file = f'{rootdir}/{s_date}/{s_sample}_{n_neighbors}neighbors_{len(ls_col)}markers_{s_type}_{s_dataset}.h5ad'\n",
    "    adata = sc.read_h5ad(results_file)\n",
    "    sc.tl.leiden(adata,resolution=resolution)\n",
    "    fig,ax = plt.subplots(figsize=(2,1.5),dpi=200)\n",
    "    figname=f'leiden_{n_neighbors}_{len(ls_col)}_{resolution}_{s_dataset}.png'\n",
    "    sc.pl.umap(adata, color='leiden',ax=ax,title=figname.split('.png')[0].replace('_',' '),wspace=.25,save=figname,size=40)\n",
    "    break"
   ]
  },
  {
   "cell_type": "code",
   "execution_count": null,
   "id": "3c16b7d9-2341-455f-a492-558b8421382d",
   "metadata": {},
   "outputs": [],
   "source": [
    "#clustermap\n",
    "df_p = pd.DataFrame(data=adata.raw.X,index=adata.obs.index,columns=adata.var.index)\n",
    "df_p['leiden'] = adata.obs['leiden']\n",
    "d_replace = {}\n",
    "df_plot = df_p.groupby('leiden').mean()\n",
    "df_plot.index.name = f'leiden {resolution}'\n",
    "g = sns.clustermap(df_plot,figsize=(4,3.5),cmap='viridis',z_score=1,vmin=-1.5,vmax=1.5\n",
    "                   )\n",
    "#g.fig.suptitle(f'leiden {resolution}',x=.9) \n",
    "g.savefig(f'{rootdir}/{s_date}/{s_sample}_clustermap_{s_type}_subtype_{resolution}_{s_dataset}.png',dpi=200)\n",
    "marker_genes = df_p.groupby('leiden').mean().iloc[:,g.dendrogram_col.reordered_ind].columns.tolist()\n",
    "categories_order = df_p.groupby('leiden').mean().iloc[g.dendrogram_row.reordered_ind,:].index.tolist()\n",
    "d_lei = dict(zip(adata.obs.index,adata.obs.leiden))\n",
    "df_prop['leiden'] = df_prop.index.map(d_lei)\n",
    "print(len(df_p))"
   ]
  },
  {
   "cell_type": "code",
   "execution_count": null,
   "id": "1789c687-484d-4161-b5ad-8bcbbdc1fd59",
   "metadata": {},
   "outputs": [],
   "source": [
    "d_replace_mib = {'0':'SR_IR','2':'SR_IP','1':'SP'}"
   ]
  },
  {
   "cell_type": "code",
   "execution_count": null,
   "id": "f143050d-b300-4e13-bee3-37780233b621",
   "metadata": {},
   "outputs": [],
   "source": [
    "#clustermap\n",
    "rdir = '/mnt/c/Users/engje/Documents/Data/cmIF_2021-07-07_RS-mTMA'\n",
    "df_plot = df_p[df_p.leiden!='2'].groupby('leiden').mean().dropna()\n",
    "df_plot = df_p.groupby('leiden').mean().rename(d_replace_mib)\n",
    "df_plot.index.name = f'leiden {resolution}'\n",
    "fig,ax=plt.subplots(figsize=(3.2,2),dpi=300)\n",
    "sns.heatmap(df_plot.loc[['SR_IR','SR_IP','SP'],:],cmap='viridis',ax=ax #,z_score=1,vmin=-1.5,vmax=1.5,figsize=(4,3.5),\n",
    "                   )\n",
    "plt.tight_layout()\n",
    "fig.savefig(f'{rdir}/MIBI/{s_sample}_heatmap_{s_type}_subtype_{resolution}_{s_dataset}.png',dpi=300)"
   ]
  },
  {
   "cell_type": "code",
   "execution_count": null,
   "id": "7620264d-74a1-4321-bdc1-48fce9f9a074",
   "metadata": {},
   "outputs": [],
   "source": [
    "#\n",
    "d_color = {'SR_IR': (0.12156862745098039, 0.4666666666666667, 0.7058823529411765), #blue\n",
    " 'SP': (1.0, 0.4980392156862745, 0.054901960784313725), #orange\n",
    " 'SR_IP': (0.17254901960784313, 0.6274509803921569, 0.17254901960784313)} #green\n",
    "row_colors = df_p.index.map(dict(zip(adata.obs.index,adata.obs.leiden.replace(d_replace_mib)))).map(d_color)\n",
    "\n",
    "g = sns.clustermap(df_p.drop('leiden',axis=1),figsize=(3.6,4),cmap='viridis',row_colors=row_colors,#z_score=1\n",
    "        )\n",
    "#g.fig.suptitle(f'leiden {resolution}',x=.9) \n",
    "for label in adata.obs.leiden.replace(d_replace_mib).unique():\n",
    "    g.ax_row_dendrogram.bar(0, 0, color=d_color[label],\n",
    "                            label=label, linewidth=0)\n",
    "g.ax_row_dendrogram.legend(loc=\"right\", ncol=1)\n",
    "g.savefig(f'{rdir}/MIBI/{s_sample}_{s_type}_clustermap_Group_leiden{resolution}_leiden.png',dpi=300)\n",
    "marker_genes = df_prop.iloc[:,g.dendrogram_col.reordered_ind].columns.tolist()\n",
    "categories_order = df_prop.iloc[g.dendrogram_row.reordered_ind,:].index.tolist()"
   ]
  },
  {
   "cell_type": "code",
   "execution_count": null,
   "id": "1c246826-2ab7-4ff6-a8b0-20972949935f",
   "metadata": {},
   "outputs": [],
   "source": [
    "#load annotation\n",
    "import lifelines\n",
    "from lifelines import KaplanMeierFitter\n",
    "from lifelines.statistics import multivariate_logrank_test\n",
    "from lifelines import CoxPHFitter\n",
    "from scipy import stats\n",
    "b_recur = True\n",
    "df_surv_mib = pd.read_csv(f'/mnt/c/Users/engje/Documents/Data/20211112_AACR/data/MIBI_clinical_data.csv',index_col=0)\n",
    "df_surv_mib.index =df_surv_mib.index.astype('str')\n",
    "df = df_prop.merge(df_surv_mib.loc[:,['Survival','Survival_time']],left_index=True,right_index=True)\n",
    "if b_recur:\n",
    "    df = df_prop.merge(df_surv_mib.loc[:,['Recurrence','Recurrence_time']],left_index=True,right_index=True)\n",
    "    s_recur = 'recurrence'\n",
    "else:\n",
    "    s_recur = 'survival'"
   ]
  },
  {
   "cell_type": "code",
   "execution_count": null,
   "id": "5c13d8df-056a-4ab2-9466-235a175e17ea",
   "metadata": {},
   "outputs": [],
   "source": [
    "ls_group =  sorted(df.leiden.unique()) #['1',  '2'] # ['0',  '2'] #\n",
    "if b_recur:\n",
    "    T = df.loc[df.leiden.isin(ls_group),'Recurrence_time']     ## time to event\n",
    "    E = df.loc[df.leiden.isin(ls_group),'Recurrence'] \n",
    "else:\n",
    "    T = df.loc[df.leiden.isin(ls_group),'Survival_time']     ## time to event\n",
    "    E = df.loc[df.leiden.isin(ls_group),'Survival']      ## event occurred or censored\n",
    "groups = df.loc[df.leiden.isin(ls_group),'leiden']  \n",
    "kmf1 = KaplanMeierFitter() ## instantiate the class to create an object\n",
    "fig, ax = plt.subplots(figsize=(3,3),dpi=200)\n",
    "for s_group in ls_group:\n",
    "    i1 = (groups == s_group)\n",
    "    kmf1.fit(T[i1], E[i1], label=s_group)    ## fit thedata\n",
    "    kmf1.plot(ax=ax,ci_show=False)\n",
    "    #print(kmf1.median_survival_time_)\n",
    "results = multivariate_logrank_test(event_durations=T, groups=groups, event_observed=E)\n",
    "ax.set_title(f'{s_type} {resolution} \\n p={results.summary.p[0]:.2}')\n",
    "ax.set_ylim(-.05,1.05)\n",
    "ax.legend(loc='upper right')\n",
    "plt.tight_layout()\n",
    "fig.savefig(f'{rdir}/MIBI/KM_{resolution}_{s_type}_{s_dataset}_{s_recur}.png',dpi=200)"
   ]
  },
  {
   "cell_type": "code",
   "execution_count": null,
   "id": "885bd7fe-d1c8-496f-8355-04de5fefdfd9",
   "metadata": {},
   "outputs": [],
   "source": [
    "d_named = {'1':'epithelial_rich','2':'stroma_rich','0':'immune_rich'}\n",
    "d_named = {'1':'str_poor','2':'str_mid','0':'imm-str_rich'}\n",
    "d_named = {'0': 'SR_IR', '2': 'SR_IP', '1': 'SP'}\n",
    "df['subtype'] = df.leiden.replace(d_named)\n",
    "ls_group = sorted(df.subtype.unique()) # ['0',  '2'] #\n",
    "\n",
    "groups = df.loc[df.subtype.isin(ls_group),'subtype']  \n",
    "kmf1 = KaplanMeierFitter() ## instantiate the class to create an object\n",
    "fig, ax = plt.subplots(figsize=(3.5,3),dpi=400)\n",
    "for s_group in ['SR_IR','SP','SR_IP']:#ls_group:\n",
    "    i1 = (groups == s_group)\n",
    "    kmf1.fit(T[i1], E[i1], label=s_group)    ## fit thedata\n",
    "    kmf1.plot(ax=ax,ci_show=False,show_censors=True,censor_styles={'linewidth':.5})\n",
    "    #print(kmf1.median_survival_time_)\n",
    "results = multivariate_logrank_test(event_durations=T, groups=groups, event_observed=E)\n",
    "ax.set_title(f'Overall Survival \\n p={results.summary.p[0]:.2}',fontsize=14)\n",
    "if b_recur:\n",
    "    ax.set_title(f'Recurrence-Free Survival \\n p={results.summary.p[0]:.2}',fontsize=14)\n",
    "ax.set_ylim(-.05,1.05)\n",
    "ax.legend(loc='lower left')\n",
    "ax.set_xlabel('Days')\n",
    "ax.set_ylabel('Fraction Alive')\n",
    "if b_recur:\n",
    "    ax.set_ylabel('Fraction Recurrence-Free')\n",
    "plt.tight_layout()\n",
    "#fig.savefig(f'{rootdir}/{s_date}/KM_{resolution}_{s_type}_{s_dataset}_{s_recur}_named.png',dpi=300)\n",
    "fig.savefig(f'{rdir}/MIBI/KM_{resolution}_{s_type}_{s_dataset}_{s_recur}_named.png',dpi=300)\n",
    "print(len(df))"
   ]
  },
  {
   "cell_type": "code",
   "execution_count": null,
   "id": "4224ed0d-01f6-4e1b-92a4-a0fa833c3931",
   "metadata": {},
   "outputs": [],
   "source": [
    "#collapes\n",
    "#d_col = {'2':'0'}\n",
    "d_name = {'0':'SR','2':'SR','1':'SP'}\n",
    "if b_recur:\n",
    "    d_name  = {'0':'stroma_rich','2':'stroma_rich','1':'stroma_poor'} #d_name = {'0':'immune_rich','2':'immune_poor','1':'immune_poor'}\n",
    "    #d_name  = {'0':'stroma_poor','2':'stroma_rich','1':'stroma_poor'} #imm rich = str poor\n",
    "df['subtype'] = df.leiden.replace(d_name)\n",
    "ls_group = sorted(df.subtype.unique()) # ['0',  '2'] #\n",
    "\n",
    "groups = df.loc[df.subtype.isin(ls_group),'subtype']  \n",
    "kmf1 = KaplanMeierFitter() ## instantiate the class to create an object\n",
    "fig, ax = plt.subplots(figsize=(3,3),dpi=200)\n",
    "for s_group in ls_group:\n",
    "    i1 = (groups == s_group)\n",
    "    kmf1.fit(T[i1], E[i1], label=s_group)    ## fit thedata\n",
    "    kmf1.plot(ax=ax,ci_show=False,show_censors=True)\n",
    "    #print(kmf1.median_survival_time_)\n",
    "results = multivariate_logrank_test(event_durations=T, groups=groups, event_observed=E)\n",
    "ax.set_title(f'{s_type} {resolution} \\n p={results.summary.p[0]:.2}')\n",
    "ax.set_ylim(-.05,1.05)\n",
    "ax.legend(loc='upper right')\n",
    "plt.tight_layout()\n",
    "fig.savefig(f'{rdir}/MIBI/KM_{resolution}_{s_type}_{s_dataset}_{s_recur}_colapsed.png',dpi=200)\n",
    "print(len(df))"
   ]
  },
  {
   "cell_type": "markdown",
   "id": "e6fae765-08f1-44b3-9407-fdd688b8e0e8",
   "metadata": {},
   "source": [
    "## OLD redo subtypeing\n",
    "\n",
    "locallly (exacloud down)"
   ]
  },
  {
   "cell_type": "code",
   "execution_count": null,
   "id": "87406f21-bec7-466f-8efd-d9c76adf0648",
   "metadata": {},
   "outputs": [],
   "source": [
    "s_sample = '20211109_MIBI'\n",
    "resolution = 0.6\n",
    "df_p = pd.read_csv(f'results_{s_sample}_leiden{resolution}_gated_celltype.csv',index_col=0)\n",
    "df_p['slide_scene'] = [item.split('_cell')[0] for item in df_p.index]\n",
    "df_p['slide'] = [item.split('_')[0] for item in df_p.index]\n",
    "s_type = 'gated_celltype' #'leiden' #\n",
    "df = df_p.loc[:,['CD31',s_type,'slide']].groupby([s_type,'slide']).CD31.count()/df_p.loc[:,['CD31','slide']].groupby(['slide']).CD31.count()\n",
    "df_prop = df.unstack().T.fillna(0)\n",
    "ls_col = df_prop.columns.tolist()\n",
    "adata = sc.AnnData(df_prop)\n",
    "adata.raw = adata\n",
    "#reduce dimensionality\n",
    "sc.tl.pca(adata, svd_solver='auto')\n",
    "fig,ax=plt.subplots(figsize=(3.5,5))\n",
    "sc.pl.highest_expr_genes(adata, n_top=48,ax=ax,save=f'Expression_{len(ls_col)}_{s_type}.png')\n",
    "plt.tight_layout()\n",
    "sc.pl.pca_variance_ratio(adata,n_pcs=32, log=True)\n",
    "\n",
    "#umap\n",
    "for n_neighbors in [5]: #,30\n",
    "    results_file = f'{s_date}/{s_sample}_{n_neighbors}neighbors_{len(ls_col)}markers_{s_type}.h5ad'\n",
    "    print('calc umap')\n",
    "    # calculate neighbors \n",
    "    sc.pp.neighbors(adata, n_neighbors=n_neighbors) #, method='rapids'\n",
    "    sc.tl.umap(adata)\n",
    "\n",
    "    #color by markers\n",
    "    \n",
    "    figname = f\"Umap_markers_{n_neighbors}neighbors_{len(ls_col)}markers_{s_type}_MIBI.png\"\n",
    "    title=figname.split('.png')[0].replace('_',' ')\n",
    "    sc.pl.umap(adata, color=ls_col,vmin='p1.5',vmax='p99.5',ncols=4,save=figname,size=250)\n",
    "    #survival\n",
    "    '''\n",
    "    adata.obs['slide'] = adata.obs.index.tolist()\n",
    "    adata.obs['Group'] = adata.obs.slide.map(d_a).fillna('unknown')\n",
    "    #adata.obs['Group'] = adata.obs.index.map(d_a).fillna('unknown')\n",
    "            \n",
    "    figname = f\"Umap_Group_{n_neighbors}neighbors_{len(ls_col)}markers_{s_type}.png\"\n",
    "    title=figname.split('.png')[0].replace('_',' ')\n",
    "    fig,ax = plt.subplots(figsize=(3,2), dpi=200)\n",
    "    sc.pl.umap(adata, color='Group',wspace=.25,save=figname,ax=ax,title=title,size=50)\n",
    "    \n",
    "    # time\n",
    "    figname = f\"Umap_survival_{n_neighbors}neighbors_{len(ls_col)}markers_{s_type}.png\"\n",
    "    title=figname.split('.png')[0].replace('_',' ')\n",
    "    fig,ax = plt.subplots(figsize=(3,2), dpi=200)\n",
    "    adata.obs['survival'] =adata.obs.slide.map(dict(zip(df_a.index.astype('str'),df_a.Survival_time)))\n",
    "    sc.pl.umap(adata, color='survival',size=50,ax=ax,title=title,save=figname)\n",
    "\n",
    "    #save results\n",
    "    if not os.path.exists(results_file):\n",
    "        adata.write(results_file)\n",
    "    '''\n",
    "    break"
   ]
  },
  {
   "cell_type": "code",
   "execution_count": null,
   "id": "be397653-8cc0-4cdf-b3c2-48eb53ee203e",
   "metadata": {
    "tags": []
   },
   "outputs": [],
   "source": [
    "#leiden\n",
    "for resolution in [0.2]: #0.3,\n",
    "    results_file = f'{s_sample}_{n_neighbors}neighbors_{n_markers}markers_{s_type}_leiden{resolution}.h5ad'\n",
    "    sc.tl.leiden(adata,resolution=resolution)\n",
    "    adata.write(results_file)\n",
    "    fig,ax = plt.subplots(figsize=(2,2),dpi=200)\n",
    "    figname=f'leiden_{n_neighbors}_{n_markers}_{resolution}.png'\n",
    "    sc.pl.umap(adata, color='leiden',ax=ax,title=figname.split('.png')[0].replace('_',' '),wspace=.25,save=figname,size=40)\n",
    "    break"
   ]
  },
  {
   "cell_type": "code",
   "execution_count": null,
   "id": "0c9df03b-ce83-45ce-803f-e10b4c955c16",
   "metadata": {},
   "outputs": [],
   "source": [
    "#clustermap\n",
    "df_p = pd.DataFrame(data=adata.raw.X,index=adata.obs.index,columns=adata.var.index)\n",
    "df_p['leiden'] = adata.obs['leiden']\n",
    "d_replace = {}\n",
    "df_plot = df_p.groupby('leiden').mean()\n",
    "df_plot.index.name = f'leiden {resolution}'\n",
    "g = sns.clustermap(df_plot,z_score=1,figsize=(4,3.5),cmap='viridis',\n",
    "                   vmin=-1.5,vmax=1.5)\n",
    "#g.fig.suptitle(f'leiden {resolution}',x=.9) \n",
    "g.savefig(f'{rootdir}/{s_date}/{s_sample}_clustermap_{s_type}_subtype_{resolution}_MIBI.png',dpi=200)\n",
    "marker_genes = df_p.groupby('leiden').mean().iloc[:,g.dendrogram_col.reordered_ind].columns.tolist()\n",
    "categories_order = df_p.groupby('leiden').mean().iloc[g.dendrogram_row.reordered_ind,:].index.tolist()"
   ]
  },
  {
   "cell_type": "code",
   "execution_count": null,
   "id": "03664b9f-df68-491a-89a2-3219137872a4",
   "metadata": {},
   "outputs": [],
   "source": [
    "d_replace = {'0':'SR_IR','1':'SR_IP','2':'SP','3':'SP'}\n",
    "d_replace = {'3':'2'}\n",
    "d_replace = {'0':'SR_IR','1':'SR_IP','2':'SP','3':'SP'}\n",
    "df_plot = df_p.groupby(df_p.leiden.replace(d_replace)).mean()\n",
    "df_plot.index.name = f'leiden {resolution}'\n",
    "fig,ax=plt.subplots(figsize=(3.2,2),dpi=300)\n",
    "sns.heatmap(df_plot,cmap='viridis',ax=ax#z_score=1,vmin=-1.5,vmax=1.5\n",
    "                   )\n",
    "plt.tight_layout()\n",
    "fig.savefig(f'{rootdir}/{s_date}/{s_sample}_heatmap_{s_type}_subtype_{resolution}.png',dpi=300)"
   ]
  },
  {
   "cell_type": "code",
   "execution_count": null,
   "id": "f649a82c-1046-402e-b5e7-b64bcc172864",
   "metadata": {
    "tags": []
   },
   "outputs": [],
   "source": [
    "#sns.clustermap(df_prop)\n",
    "s_type = 'gated_celltype' #'leiden' #\n",
    "df = df_p.loc[:,['CD31',s_type,'slide']].groupby([s_type,'slide']).CD31.count()/df_p.loc[:,['CD31','slide']].groupby(['slide']).CD31.count()\n",
    "df_prop = df.unstack().T.fillna(0)\n",
    "d_lei = dict(zip(adata.obs.index,adata.obs.leiden))\n",
    "d_color = dict(zip(sorted(adata.obs.leiden.unique()),sns.color_palette()[0:3]))\n",
    "row_colors = df_prop.index.map(d_lei).map(d_color)\n",
    "\n",
    "g = sns.clustermap(df_prop,figsize=(5,15),cmap='viridis',row_colors=row_colors\n",
    "        )\n",
    "for label in d_color.keys():\n",
    "    g.ax_row_dendrogram.bar(0, 0, color=d_color[label],\n",
    "                            label=label, linewidth=0)\n",
    "g.ax_row_dendrogram.legend(loc=\"right\", ncol=1)\n",
    "g.savefig(f'{rootdir}/{s_date}/{s_sample}_clustermap_Group_MIBI.png',dpi=200)\n",
    "marker_genes = df_prop.iloc[:,g.dendrogram_col.reordered_ind].columns.tolist()\n",
    "categories_order = df_prop.iloc[g.dendrogram_row.reordered_ind,:].index.tolist()"
   ]
  },
  {
   "cell_type": "code",
   "execution_count": null,
   "id": "64f91b67-0e0f-4673-a5ed-25c6c12b429a",
   "metadata": {},
   "outputs": [],
   "source": [
    "#categories_order\n",
    "ls_epi = ['15', '22', '18', '24', '7', '14', '21', '23', '27', '26', '31',]\n",
    "ls_str = [ '38', '11', '20', '34', '6', '25', '33', '19', '8', '32', '35', '16', '28', '2', '36', '1', '3', '5', '12', '9', '17', '39', '29', '37', '41', '10', '40', '13', '4']"
   ]
  },
  {
   "cell_type": "markdown",
   "id": "b73879f8-6270-4047-b588-b4aa57127579",
   "metadata": {},
   "source": [
    "## OLD mibi survival"
   ]
  },
  {
   "cell_type": "code",
   "execution_count": null,
   "id": "86fac6f4-2388-418c-8312-bf88d92d6d2c",
   "metadata": {},
   "outputs": [],
   "source": [
    "import lifelines\n",
    "from lifelines import KaplanMeierFitter\n",
    "from lifelines.statistics import multivariate_logrank_test\n",
    "from lifelines import CoxPHFitter"
   ]
  },
  {
   "cell_type": "code",
   "execution_count": null,
   "id": "b4690fd1-c774-4d4d-aa3a-a8597889578f",
   "metadata": {},
   "outputs": [],
   "source": [
    "df_a = pd.read_csv(f'{rootdir}/clinical_data.csv',index_col=0)\n",
    "#load annotation\n",
    "df_a['Group'] = pd.qcut(x=df_a.loc[:,'Survival_time'],q=2,labels=['short','long'])\n",
    "d_a = dict(zip(df_a.index.astype('str'),df_a.Group))\n",
    "\n",
    "df_prop['leiden'] = df_prop.index.map(d_lei)\n",
    "\n",
    "df_a.index = df_a.index.astype('str')\n",
    "df = df_prop.merge(df_a.loc[:,['Survival','Survival_time']],left_index=True,right_index=True)"
   ]
  },
  {
   "cell_type": "code",
   "execution_count": null,
   "id": "51c166b2-582f-4455-8cab-ba50461f861e",
   "metadata": {},
   "outputs": [],
   "source": [
    "T = df['Survival_time']     ## time to event\n",
    "E = df['Survival']      ## event occurred or censored\n",
    "groups = df.loc[:,'leiden']  \n",
    "kmf1 = KaplanMeierFitter() ## instantiate the class to create an object\n",
    "fig, ax = plt.subplots(figsize=(3,3),dpi=200)\n",
    "for s_group in sorted(groups.unique()):\n",
    "    i1 = (groups == s_group)\n",
    "    kmf1.fit(T[i1], E[i1], label=s_group)    ## fit thedata\n",
    "    kmf1.plot(ax=ax,ci_show=False)\n",
    "    #print(kmf1.median_survival_time_)\n",
    "results = multivariate_logrank_test(event_durations=T, groups=groups, event_observed=E)\n",
    "ax.set_title(f'{s_type} {resolution} \\n p={results.summary.p[0]:.2}')\n",
    "ax.legend(loc='upper right')\n",
    "plt.tight_layout()\n",
    "fig.savefig(f'{s_date}/KM_{resolution}_{s_type}.png',dpi=200)"
   ]
  },
  {
   "cell_type": "code",
   "execution_count": null,
   "id": "e3478c45-a756-4302-a842-2395f26defe6",
   "metadata": {},
   "outputs": [],
   "source": [
    "df.loc[df.index.isin(ls_epi),'Group'] ='stroma_poor'\n",
    "df.loc[df.index.isin(ls_str),'Group'] ='stroma_rich'\n",
    "s_type = 'Group'\n",
    "groups = df.loc[:,'Group']  \n",
    "kmf1 = KaplanMeierFitter() ## instantiate the class to create an object\n",
    "fig, ax = plt.subplots(figsize=(3,3),dpi=200)\n",
    "for s_group in sorted(groups.unique()):\n",
    "    i1 = (groups == s_group)\n",
    "    kmf1.fit(T[i1], E[i1], label=s_group)    ## fit thedata\n",
    "    kmf1.plot(ax=ax,ci_show=False)\n",
    "    #print(kmf1.median_survival_time_)\n",
    "results = multivariate_logrank_test(event_durations=T, groups=groups, event_observed=E)\n",
    "ax.set_title(f'{s_type} {resolution} \\n p={results.summary.p[0]:.2}')\n",
    "ax.legend(loc='upper right')\n",
    "plt.tight_layout()\n",
    "fig.savefig(f'{s_date}/KM_{resolution}_{s_type}_MIBI.png',dpi=200)"
   ]
  },
  {
   "cell_type": "code",
   "execution_count": null,
   "id": "cfe80c04-ca3e-4c35-a111-a9ee4a5cb4d5",
   "metadata": {},
   "outputs": [],
   "source": [
    "df_p['Group'] = df_p.slide.map(dict(zip(df.index,df.Group)))"
   ]
  },
  {
   "cell_type": "code",
   "execution_count": null,
   "id": "5cb3e541-0af9-4efa-b240-4a6960ccd6aa",
   "metadata": {},
   "outputs": [],
   "source": [
    "df_p['leiden_subtype'] = df_p.slide.map(dict(zip(df.index,df.leiden)))"
   ]
  },
  {
   "cell_type": "code",
   "execution_count": null,
   "id": "b9599cd1-afab-4da3-893b-2333c6fe3128",
   "metadata": {},
   "outputs": [],
   "source": [
    "s_out_mib = 'results_20211109_MIBI_Celltype_Subtype_Group.csv'\n",
    "#df_p.to_csv(s_out_mib)"
   ]
  },
  {
   "cell_type": "code",
   "execution_count": null,
   "id": "a9e54fa9-5774-4c6b-87e8-c6d77988c0c2",
   "metadata": {},
   "outputs": [],
   "source": [
    "df_p.head()"
   ]
  },
  {
   "cell_type": "code",
   "execution_count": null,
   "id": "cdcfda9c-6ec2-45f1-8ddc-ea0f5c2c219d",
   "metadata": {},
   "outputs": [],
   "source": [
    "df_res = pd.read_csv('results_20211109_MIBI_leiden0.6_gated_celltype.csv',index_col=0)"
   ]
  },
  {
   "cell_type": "code",
   "execution_count": null,
   "id": "f956db89-384c-4d20-baba-f7fe1d5e7f97",
   "metadata": {},
   "outputs": [],
   "source": [
    "df_res"
   ]
  },
  {
   "cell_type": "code",
   "execution_count": null,
   "id": "0fd276e5-fe49-454d-b262-931e5985b223",
   "metadata": {},
   "outputs": [],
   "source": []
  },
  {
   "cell_type": "markdown",
   "id": "d239c1ea-e593-48e0-adc0-a488c13d7a96",
   "metadata": {},
   "source": [
    "## stop"
   ]
  },
  {
   "cell_type": "code",
   "execution_count": null,
   "id": "f8fea7e7-d09e-4892-98f7-5be6ab17cd28",
   "metadata": {},
   "outputs": [],
   "source": [
    "import numpy as np\n",
    "import matplotlib.pyplot as plt\n",
    "from sklearn.datasets import fetch_species_distributions\n",
    "from sklearn.neighbors import KernelDensity"
   ]
  },
  {
   "cell_type": "code",
   "execution_count": null,
   "id": "e98587ba-60d4-4e8b-90fd-2544369dbedb",
   "metadata": {},
   "outputs": [],
   "source": [
    "try:\n",
    "    from mpl_toolkits.basemap import Basemap\n",
    "\n",
    "    basemap = True\n",
    "except ImportError:\n",
    "    basemap = False"
   ]
  },
  {
   "cell_type": "code",
   "execution_count": null,
   "id": "4313c136-88ae-46e1-9362-1380a051df07",
   "metadata": {},
   "outputs": [],
   "source": [
    "def construct_grids(batch):\n",
    "    \"\"\"Construct the map grid from the batch object\n",
    "\n",
    "    Parameters\n",
    "    ----------\n",
    "    batch : Batch object\n",
    "        The object returned by :func:`fetch_species_distributions`\n",
    "\n",
    "    Returns\n",
    "    -------\n",
    "    (xgrid, ygrid) : 1-D arrays\n",
    "        The grid corresponding to the values in batch.coverages\n",
    "    \"\"\"\n",
    "    # x,y coordinates for corner cells\n",
    "    xmin = batch.x_left_lower_corner + batch.grid_size\n",
    "    xmax = xmin + (batch.Nx * batch.grid_size)\n",
    "    ymin = batch.y_left_lower_corner + batch.grid_size\n",
    "    ymax = ymin + (batch.Ny * batch.grid_size)\n",
    "\n",
    "    # x coordinates of the grid cells\n",
    "    xgrid = np.arange(xmin, xmax, batch.grid_size)\n",
    "    # y coordinates of the grid cells\n",
    "    ygrid = np.arange(ymin, ymax, batch.grid_size)\n",
    "\n",
    "    return (xgrid, ygrid)"
   ]
  },
  {
   "cell_type": "code",
   "execution_count": null,
   "id": "00040dda-78c9-4959-8b1b-c84c5c0c8efa",
   "metadata": {},
   "outputs": [],
   "source": [
    "# Get matrices/arrays of species IDs and locations\n",
    "data = fetch_species_distributions()\n",
    "species_names = [\"Bradypus Variegatus\", \"Microryzomys Minutus\"]"
   ]
  },
  {
   "cell_type": "code",
   "execution_count": null,
   "id": "8373ed0a-6ac4-4647-b82c-0f3fbe8ace83",
   "metadata": {
    "tags": []
   },
   "outputs": [],
   "source": [
    "data"
   ]
  },
  {
   "cell_type": "code",
   "execution_count": null,
   "id": "90d40e6b-ee26-423c-97fb-44b199a7ea31",
   "metadata": {},
   "outputs": [],
   "source": [
    "\n",
    "Xtrain = np.vstack([data[\"train\"][\"dd lat\"], data[\"train\"][\"dd long\"]]).T\n",
    "ytrain = np.array(\n",
    "    [d.decode(\"ascii\").startswith(\"micro\") for d in data[\"train\"][\"species\"]],\n",
    "    dtype=\"int\",\n",
    ")\n",
    "Xtrain *= np.pi / 180.0  # Convert lat/long to radians\n",
    "\n",
    "# Set up the data grid for the contour plot\n",
    "xgrid, ygrid = construct_grids(data)"
   ]
  },
  {
   "cell_type": "code",
   "execution_count": null,
   "id": "b4c01f23-71b7-445f-82a6-a32355f46ef6",
   "metadata": {},
   "outputs": [],
   "source": [
    "# Set up the data grid for the contour plot\n",
    "xgrid, ygrid = construct_grids(data)\n",
    "X, Y = np.meshgrid(xgrid[::5], ygrid[::5][::-1])\n",
    "land_reference = data.coverages[6][::5, ::5]\n",
    "land_mask = (land_reference > -9999).ravel()"
   ]
  },
  {
   "cell_type": "code",
   "execution_count": null,
   "id": "540db3b8-3f0c-4623-8518-a2a4556c9c1a",
   "metadata": {},
   "outputs": [],
   "source": [
    "xy = np.vstack([Y.ravel(), X.ravel()]).T\n",
    "xy = xy[land_mask]\n",
    "xy *= np.pi / 180.0"
   ]
  },
  {
   "cell_type": "code",
   "execution_count": null,
   "id": "bd294b65-c1c4-492f-bd7a-66f1ecc5a13c",
   "metadata": {},
   "outputs": [],
   "source": [
    "%matplotlib inline\n",
    "# Plot map of South America with distributions of each species\n",
    "fig = plt.figure()\n",
    "fig.subplots_adjust(left=0.05, right=0.95, wspace=0.05)\n",
    "\n",
    "for i in range(2):\n",
    "    plt.subplot(1, 2, i + 1)\n",
    "\n",
    "    # construct a kernel density estimate of the distribution\n",
    "    print(\" - computing KDE in spherical coordinates\")\n",
    "    kde = KernelDensity(\n",
    "        bandwidth=0.04, metric=\"haversine\", kernel=\"gaussian\", algorithm=\"ball_tree\"\n",
    "    )\n",
    "    kde.fit(Xtrain[ytrain == i])\n",
    "\n",
    "    # evaluate only on the land: -9999 indicates ocean\n",
    "    Z = np.full(land_mask.shape[0], -9999, dtype=\"int\")\n",
    "    Z[land_mask] = np.exp(kde.score_samples(xy))\n",
    "    Z = Z.reshape(X.shape)\n",
    "\n",
    "    # plot contours of the density\n",
    "    levels = np.linspace(0, Z.max(), 25)\n",
    "    plt.contourf(X, Y, Z, levels=levels, cmap=plt.cm.Reds)\n",
    "\n",
    "    if basemap:\n",
    "        print(\" - plot coastlines using basemap\")\n",
    "        m = Basemap(\n",
    "            projection=\"cyl\",\n",
    "            llcrnrlat=Y.min(),\n",
    "            urcrnrlat=Y.max(),\n",
    "            llcrnrlon=X.min(),\n",
    "            urcrnrlon=X.max(),\n",
    "            resolution=\"c\",\n",
    "        )\n",
    "        m.drawcoastlines()\n",
    "        m.drawcountries()\n",
    "    else:\n",
    "        print(\" - plot coastlines from coverage\")\n",
    "        plt.contour(\n",
    "            X, Y, land_reference, levels=[-9998], colors=\"k\", linestyles=\"solid\"\n",
    "        )\n",
    "        plt.xticks([])\n",
    "        plt.yticks([])\n",
    "\n",
    "    plt.title(species_names[i])\n",
    "\n",
    "plt.show()"
   ]
  },
  {
   "cell_type": "code",
   "execution_count": null,
   "id": "6c865fdd-1292-4827-b810-e243adaac1cf",
   "metadata": {},
   "outputs": [],
   "source": [
    "import shapely\n",
    "polygon = [(1.0, 1.0), (2.0, 1.0), (2.0, 2.0), (1,2), (1, 1)]\n",
    "shapely_poly = shapely.geometry.Polygon(polygon)\n",
    "line = [(1, 2), (2,1)]\n",
    "shapely_line = shapely.geometry.LineString(line)\n",
    "intersection_line = list(shapely_poly.intersection(shapely_line).coords)"
   ]
  },
  {
   "cell_type": "code",
   "execution_count": null,
   "id": "562c8428-f17a-4087-9236-fdfc5d859d40",
   "metadata": {},
   "outputs": [],
   "source": [
    "from shapely.geometry import Point\n",
    "\n",
    "point = Point(0, -10)\n",
    "square = point.buffer(0.5).envelope\n",
    "\n",
    "fig, ax = plt.subplots(figsize=(5,5))\n",
    "gpd.GeoSeries(square).plot(ax=ax)\n",
    "gpd.GeoSeries(point).plot(ax=ax, color = \"black\",markersize=30)\n",
    "plt.grid()\n",
    "plt.show()"
   ]
  },
  {
   "cell_type": "code",
   "execution_count": null,
   "id": "7def3642-9684-4972-b53f-fbde24f9245a",
   "metadata": {},
   "outputs": [],
   "source": [
    "import geopandas as gpd"
   ]
  },
  {
   "cell_type": "code",
   "execution_count": null,
   "id": "9a8de25f-30a7-4712-b20d-5b96d996fcfe",
   "metadata": {},
   "outputs": [],
   "source": []
  }
 ],
 "metadata": {
  "kernelspec": {
   "display_name": "Python 3 (ipykernel)",
   "language": "python",
   "name": "python3"
  },
  "language_info": {
   "codemirror_mode": {
    "name": "ipython",
    "version": 3
   },
   "file_extension": ".py",
   "mimetype": "text/x-python",
   "name": "python",
   "nbconvert_exporter": "python",
   "pygments_lexer": "ipython3",
   "version": "3.8.2"
  }
 },
 "nbformat": 4,
 "nbformat_minor": 5
}
