{
 "cells": [
  {
   "cell_type": "code",
   "execution_count": null,
   "metadata": {},
   "outputs": [],
   "source": [
    "#load libraries\n",
    "import pandas as pd\n",
    "import matplotlib.pyplot as plt\n",
    "import numpy as np\n",
    "import os\n",
    "import copy\n",
    "import seaborn as sns\n",
    "import importlib\n",
    "from matplotlib import cm"
   ]
  },
  {
   "cell_type": "code",
   "execution_count": null,
   "metadata": {},
   "outputs": [],
   "source": [
    "#load cmif libraries\n",
    "os.chdir('/mnt/c/Users/engje/Documents/Data/')\n",
    "from cmif.mplex_image import visualize as viz, process, preprocess, gating"
   ]
  },
  {
   "cell_type": "markdown",
   "metadata": {},
   "source": [
    "## Notes\n",
    "\n",
    "add notes about choices for gating strategy"
   ]
  },
  {
   "cell_type": "markdown",
   "metadata": {},
   "source": [
    "## Load Data"
   ]
  },
  {
   "cell_type": "code",
   "execution_count": null,
   "metadata": {},
   "outputs": [],
   "source": [
    "#set location of files\n",
    "rootdir = '/mnt/c/Users/engje/Documents/Data/cmIF_2021-07-07_RS-mTMA'\n",
    "# go to location of files\n",
    "os.chdir(rootdir)\n",
    "preprocess.cmif_mkdir(['GatingPlots'])\n",
    "#os.listdir()"
   ]
  },
  {
   "cell_type": "code",
   "execution_count": null,
   "metadata": {},
   "outputs": [],
   "source": [
    "# 3 define samples to work with/ image combos\n",
    "ls_sample = ['20211109_RS-mTMA-5']"
   ]
  },
  {
   "cell_type": "code",
   "execution_count": null,
   "metadata": {},
   "outputs": [],
   "source": [
    "df_data = pd.DataFrame()\n",
    "for s_sample in ls_sample:\n",
    "    df_data = df_data.append(pd.read_csv(f'{s_sample}_ManualPositive.csv',index_col=0))"
   ]
  },
  {
   "cell_type": "markdown",
   "metadata": {},
   "source": [
    "## Specify Gating Strategy"
   ]
  },
  {
   "cell_type": "code",
   "execution_count": null,
   "metadata": {},
   "outputs": [],
   "source": [
    "df_data.columns"
   ]
  },
  {
   "cell_type": "code",
   "execution_count": null,
   "metadata": {},
   "outputs": [],
   "source": [
    "#parameters\n",
    "\n",
    "# cell types\n",
    "ls_endothelial = ['CD31']\n",
    "ls_immune = ['CD45'] \n",
    "ls_tumor = ['Ecad','EpCAM','CK5'] \n",
    "ls_prolif = ['Ki67']\n",
    "\n",
    "#tcell/myeloid\n",
    "s_tcell = 'CD8' \n",
    "s_bcell = 'CD11c' #dendritic cells\n",
    "s_myeloid = 'CD11b'\n",
    "ls_immune_functional = ['FoxP3','CD103'] # not in dataset: 'FoxP3_Nuclei','GRNZB_Nuclei',\n",
    "\n",
    "#luminal/basal/mesenchymal\n",
    "ls_luminal = ['SOX9'] # not in dataset 'CK8_Ring'\n",
    "ls_basal = ['CK5'] \n",
    "ls_mes = [] \n",
    "ls_tumor_plus = [] #['CD44_Ring'] + ['Lum','Bas','Mes']\n",
    "ls_stromal_function =  ['Vim','aSMA','ColIV', 'ColVI','Gal3']\n",
    "ls_tumor_prolif = ['pMYC','Ki67']  \n",
    "\n",
    "#index of cell line samples (i.e. 100% tumor)\n",
    "ls_cellline_index = []\n"
   ]
  },
  {
   "cell_type": "code",
   "execution_count": null,
   "metadata": {},
   "outputs": [],
   "source": [
    "from mplex_image import analyze"
   ]
  },
  {
   "cell_type": "code",
   "execution_count": null,
   "metadata": {},
   "outputs": [],
   "source": [
    "def main_celltypes(df_data,ls_endothelial,ls_immune,ls_tumor,ls_cellline_index):\n",
    "    #celltpye\n",
    "    #1 endothelial\n",
    "    df_data['endothelial'] = df_data.loc[:,ls_endothelial].any(axis=1)\n",
    "    #3 tumor\n",
    "    ls_exclude =  ls_endothelial \n",
    "    df_data['tumor'] = df_data.loc[:,ls_tumor].any(axis=1) & ~df_data.loc[:,ls_exclude].any(axis=1) \n",
    "    #2 immune\n",
    "    ls_exclude = ls_endothelial + ls_tumor\n",
    "    df_data['immune'] = df_data.loc[:,ls_immune].any(axis=1) & ~df_data.loc[:,ls_exclude].any(axis=1)\n",
    "    #4 stromal\n",
    "    ls_exclude = ls_immune + ls_endothelial + ls_tumor\n",
    "    df_data['stromal'] = ~df_data.loc[:,ls_exclude].any(axis=1)\n",
    "    #add celltype\n",
    "    ls_cell_names = ['stromal','endothelial','tumor','immune']\n",
    "    s_type_name = 'celltype'\n",
    "    analyze.add_celltype(df_data, ls_cell_names, s_type_name)\n",
    "    #fix cell lines (all tumor!)\n",
    "    df_data['slide_scene'] = [item.split('_cell')[0] for item in df_data.index]\n",
    "    df_data.loc[df_data[df_data.slide_scene.isin(ls_cellline_index)].index,'celltype'] = 'tumor'\n",
    "    df_data['immune'] = df_data.loc[:,'celltype'] == 'immune'\n",
    "    df_data['stromal'] = df_data.loc[:,'celltype'] == 'stromal'\n",
    "    df_data['endothelial'] = df_data.loc[:,'celltype'] == 'endothelial'\n",
    "    return(df_data)\n",
    "\n",
    "def immune_types(df_data,s_myeloid,s_bcell,s_tcell):\n",
    "    ## T cell, B cell or myeloid\n",
    "    df_data['Myeloid'] = df_data.loc[:,[s_myeloid,'immune']].all(axis=1) \n",
    "    df_data['DendriticCell'] = df_data.loc[:,[s_bcell,'immune']].all(axis=1) & ~df_data.loc[:,['Myeloid',s_tcell]].any(axis=1)\n",
    "    df_data['CD8Tcell'] = df_data.loc[:,[s_tcell,'immune']].all(axis=1) & ~df_data.loc[:,['DendriticCell','Myeloid']].any(axis=1)\n",
    "    df_data['OtherImmune'] = df_data.loc[:,'immune'] & ~df_data.loc[:,['DendriticCell','CD8Tcell','Myeloid']].any(axis=1)\n",
    "    ## CD4 and CD8 \n",
    "    if df_data.columns.isin(['CD8_Ring','CD4_Ring']).sum()==2:\n",
    "        print('CD4 AND CD8')\n",
    "        df_data['CD8Tcell'] = df_data.loc[: ,['CD8_Ring','TcellImmune']].all(axis=1)\n",
    "        df_data['CD4Tcell'] = df_data.loc[: ,['CD4_Ring','TcellImmune']].all(axis=1) & ~df_data.loc[: ,'CD8Tcell']\n",
    "        df_data['UnspecifiedTcell'] = df_data.TcellImmune & ~df_data.loc[:,['CD8Tcell','CD4Tcell']].any(axis=1) #if cd4 or 8 then sum = 2\n",
    "        ## check\n",
    "        ls_immune = df_data[df_data.loc[:,'TcellImmune']].index.tolist()\n",
    "        if ((df_data.loc[ls_immune,['CD8Tcell','CD4Tcell','UnspecifiedTcell']].sum(axis=1)!=1)).any():\n",
    "            print('Error in Tcell cell types')\n",
    "        ls_immuntype = ['CD68Mac','CD20Bcell','UnspecifiedImmune','CD8Tcell','CD4Tcell','UnspecifiedTcell'] #'TcellImmune',\n",
    "    else:\n",
    "        ls_immuntype = ['Myeloid','DendriticCell','OtherImmune','CD8Tcell'] #'TcellImmune',\n",
    "    #add Immunetype\n",
    "    ls_cell_names = ls_immuntype\n",
    "    s_type_name = 'ImmuneType'\n",
    "    analyze.add_celltype(df_data, ls_cell_names, s_type_name)\n",
    "\n",
    "    #get rid of unspecfied immune cells (make them stroma)\n",
    "    #ls_index = df_data[df_data.ImmuneType.fillna('x').str.contains('Unspecified')].index\n",
    "    #df_data.loc[ls_index,'celltype'] = 'stromal'\n",
    "    #df_data.loc[ls_index,'ImmuneType'] = np.nan\n",
    "    #df_data.loc[ls_index,'stromal'] = True\n",
    "    #df_data.loc[ls_index,'immune'] = False\n",
    "    return(df_data)\n"
   ]
  },
  {
   "cell_type": "markdown",
   "metadata": {},
   "source": [
    "## Perform Gating"
   ]
  },
  {
   "cell_type": "code",
   "execution_count": null,
   "metadata": {},
   "outputs": [],
   "source": [
    "%%capture\n",
    "#custom gating\n",
    "df_data = main_celltypes(df_data,ls_endothelial,ls_immune,ls_tumor,ls_cellline_index)\n",
    "df_data = gating.proliferation(df_data,ls_prolif)\n",
    "df_data = immune_types(df_data,s_myeloid,s_bcell,s_tcell)\n",
    "df_data = gating.immune_functional(df_data,ls_immune_functional)\n",
    "df_data = gating.cell_prolif(df_data)\n",
    "#df_data = gating.diff_hr_state(df_data,ls_luminal,ls_basal,ls_mes)"
   ]
  },
  {
   "cell_type": "code",
   "execution_count": null,
   "metadata": {},
   "outputs": [],
   "source": [
    "%%capture\n",
    "#general gating\n",
    "df_data = gating.celltype_gates(df_data,ls_tumor_prolif,s_new_name='TumorProlif',s_celltype='tumor')\n",
    "df_data = gating.celltype_gates(df_data,ls_tumor_plus,s_new_name='TumorDiffPlus',s_celltype='tumor')\n",
    "df_data = gating.celltype_gates(df_data,ls_stromal_function,s_new_name='StromalType',s_celltype='stromal')"
   ]
  },
  {
   "cell_type": "code",
   "execution_count": null,
   "metadata": {},
   "outputs": [],
   "source": [
    "df_data = gating.non_tumor(df_data)"
   ]
  },
  {
   "cell_type": "markdown",
   "metadata": {},
   "source": [
    "## Output Gating Data"
   ]
  },
  {
   "cell_type": "code",
   "execution_count": null,
   "metadata": {},
   "outputs": [],
   "source": [
    "#check\n",
    "df_data.loc[:,df_data.dtypes=='object']"
   ]
  },
  {
   "cell_type": "code",
   "execution_count": null,
   "metadata": {},
   "outputs": [],
   "source": [
    "#drop extra colums\n",
    "df_gate = df_data.loc[:,df_data.dtypes!='bool']"
   ]
  },
  {
   "cell_type": "code",
   "execution_count": null,
   "metadata": {},
   "outputs": [],
   "source": [
    "ls_clow = ['RS-mTMA-5_sceneI11','RS-mTMA-5_sceneG09','RS-mTMA-5_sceneH11']\n",
    "for s_scene in ls_clow:\n",
    "    ls_index = df_gate[(df_gate.slide_scene==s_scene) & (df_gate.StromalType == 'stromal___')].index\n",
    "    df_gate.loc[ls_index,'celltype'] = 'tumor'\n",
    "    df_gate.loc[ls_index,'NonTumor'] = np.NaN\n",
    "    df_gate.loc[ls_index,'StromalType'] = np.NaN\n",
    "    df_gate.loc[ls_index,'NonTumorFunc'] = np.NaN\n",
    "    df_gate.loc[ls_index,'CellProlif'] = df_gate.loc[ls_index,'celltype'] + '_' + df_gate.loc[ls_index,'proliferation']\n",
    "    df_gate.loc[ls_index,'TumorDiffPlus'] = 'Claudin_Low'\n",
    "    #break"
   ]
  },
  {
   "cell_type": "code",
   "execution_count": null,
   "metadata": {},
   "outputs": [],
   "source": [
    "s_scene"
   ]
  },
  {
   "cell_type": "code",
   "execution_count": null,
   "metadata": {},
   "outputs": [],
   "source": [
    "s_out = '20211111_RS-mTMA-5'\n",
    "if not os.path.exists(f'{s_out}_GatedPositiveCellNames.csv'):\n",
    "    print('saving new csv')\n",
    "    df_gate.to_csv(f'{s_out}_GatedPositiveCellNames.csv')"
   ]
  },
  {
   "cell_type": "markdown",
   "metadata": {},
   "source": [
    "## Plot\n"
   ]
  },
  {
   "cell_type": "code",
   "execution_count": null,
   "metadata": {},
   "outputs": [],
   "source": [
    "#importlib.reload(viz)"
   ]
  },
  {
   "cell_type": "code",
   "execution_count": null,
   "metadata": {},
   "outputs": [],
   "source": [
    "df_data = pd.read_csv(f'{s_out}_GatedPositiveCellNames.csv',index_col=0)"
   ]
  },
  {
   "cell_type": "code",
   "execution_count": null,
   "metadata": {},
   "outputs": [],
   "source": [
    "df_data['scene'] = [item.split('_cell')[0] for item in df_data.index]\n",
    "#make a fake scene\n",
    "df_data.loc[df_data[df_data.DAPI_Y > df_data.DAPI_Y.median()].index,'scene'] = 'BC44290-146_scene2'"
   ]
  },
  {
   "cell_type": "code",
   "execution_count": null,
   "metadata": {},
   "outputs": [],
   "source": [
    "%matplotlib inline\n",
    "s_grouper='scene'\n",
    "\n",
    "#calculate proportions\n",
    "for s_cell in df_data.columns[(df_data.dtypes=='object') & ~(df_data.columns.isin([s_grouper]))].tolist():\n",
    "    df_prop = viz.prop_positive(df_data,s_cell=s_cell,s_grouper=s_grouper)\n",
    "    df_prop.rename(index=dict(zip(df_prop.index,['top','bottom'])),inplace=True) \n",
    "\n",
    "    # make annotations\n",
    "    df_annot=pd.DataFrame(data={'ID': df_prop.index.tolist()},index=df_prop.index)\n",
    "    lut = dict(zip(sorted(df_annot.ID.unique()),cm.tab10.colors))\n",
    "    g, df_plot_less = viz.prop_clustermap(df_prop,df_annot,i_thresh =.01,lut=lut)\n",
    "    g.savefig(f'./GatingPlots/{s_cell}_clustermap.png',dpi=150)\n",
    "    plt.close()\n",
    "    fig = viz.prop_barplot(df_plot_less,s_cell,colormap=\"Spectral\")\n",
    "    fig.savefig(f'./GatingPlots/{s_cell}_bar.png',dpi=200)"
   ]
  },
  {
   "cell_type": "code",
   "execution_count": null,
   "metadata": {},
   "outputs": [],
   "source": []
  }
 ],
 "metadata": {
  "kernelspec": {
   "display_name": "Python 3 (ipykernel)",
   "language": "python",
   "name": "python3"
  },
  "language_info": {
   "codemirror_mode": {
    "name": "ipython",
    "version": 3
   },
   "file_extension": ".py",
   "mimetype": "text/x-python",
   "name": "python",
   "nbconvert_exporter": "python",
   "pygments_lexer": "ipython3",
   "version": "3.8.2"
  }
 },
 "nbformat": 4,
 "nbformat_minor": 4
}
